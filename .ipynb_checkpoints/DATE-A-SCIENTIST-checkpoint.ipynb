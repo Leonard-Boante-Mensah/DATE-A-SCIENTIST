{
 "cells": [
  {
   "cell_type": "code",
   "execution_count": 205,
   "id": "383bc0ec",
   "metadata": {},
   "outputs": [],
   "source": [
    "import pandas as pd\n",
    "import numpy as np\n",
    "from matplotlib import pyplot as plt\n",
    "import seaborn as sns\n",
    "import spacy\n",
    "from sklearn.model_selection import train_test_split\n",
    "from sklearn.preprocessing import StandardScaler\n",
    "from sklearn.decomposition import PCA\n",
    "from sklearn.linear_model import LogisticRegression\n",
    "from sklearn.pipeline import Pipeline\n",
    "from sklearn.model_selection import GridSearchCV, RepeatedStratifiedKFold\n",
    "from sklearn.dummy import DummyClassifier\n",
    "from sklearn.metrics import f1_score"
   ]
  },
  {
   "cell_type": "code",
   "execution_count": 206,
   "id": "f466f1df",
   "metadata": {},
   "outputs": [],
   "source": [
    "df = pd.read_csv('profiles.csv')"
   ]
  },
  {
   "cell_type": "code",
   "execution_count": 207,
   "id": "91b59b91",
   "metadata": {},
   "outputs": [
    {
     "data": {
      "text/plain": [
       "59946"
      ]
     },
     "execution_count": 207,
     "metadata": {},
     "output_type": "execute_result"
    }
   ],
   "source": [
    "len(df)"
   ]
  },
  {
   "cell_type": "code",
   "execution_count": 208,
   "id": "fb2f8d1a",
   "metadata": {},
   "outputs": [
    {
     "data": {
      "text/html": [
       "<div>\n",
       "<style scoped>\n",
       "    .dataframe tbody tr th:only-of-type {\n",
       "        vertical-align: middle;\n",
       "    }\n",
       "\n",
       "    .dataframe tbody tr th {\n",
       "        vertical-align: top;\n",
       "    }\n",
       "\n",
       "    .dataframe thead th {\n",
       "        text-align: right;\n",
       "    }\n",
       "</style>\n",
       "<table border=\"1\" class=\"dataframe\">\n",
       "  <thead>\n",
       "    <tr style=\"text-align: right;\">\n",
       "      <th></th>\n",
       "      <th>age</th>\n",
       "      <th>body_type</th>\n",
       "      <th>diet</th>\n",
       "      <th>drinks</th>\n",
       "      <th>drugs</th>\n",
       "      <th>education</th>\n",
       "      <th>essay0</th>\n",
       "      <th>essay1</th>\n",
       "      <th>essay2</th>\n",
       "      <th>essay3</th>\n",
       "      <th>...</th>\n",
       "      <th>location</th>\n",
       "      <th>offspring</th>\n",
       "      <th>orientation</th>\n",
       "      <th>pets</th>\n",
       "      <th>religion</th>\n",
       "      <th>sex</th>\n",
       "      <th>sign</th>\n",
       "      <th>smokes</th>\n",
       "      <th>speaks</th>\n",
       "      <th>status</th>\n",
       "    </tr>\n",
       "  </thead>\n",
       "  <tbody>\n",
       "    <tr>\n",
       "      <th>0</th>\n",
       "      <td>22</td>\n",
       "      <td>a little extra</td>\n",
       "      <td>strictly anything</td>\n",
       "      <td>socially</td>\n",
       "      <td>never</td>\n",
       "      <td>working on college/university</td>\n",
       "      <td>about me:&lt;br /&gt;\\n&lt;br /&gt;\\ni would love to think...</td>\n",
       "      <td>currently working as an international agent fo...</td>\n",
       "      <td>making people laugh.&lt;br /&gt;\\nranting about a go...</td>\n",
       "      <td>the way i look. i am a six foot half asian, ha...</td>\n",
       "      <td>...</td>\n",
       "      <td>south san francisco, california</td>\n",
       "      <td>doesn&amp;rsquo;t have kids, but might want them</td>\n",
       "      <td>straight</td>\n",
       "      <td>likes dogs and likes cats</td>\n",
       "      <td>agnosticism and very serious about it</td>\n",
       "      <td>m</td>\n",
       "      <td>gemini</td>\n",
       "      <td>sometimes</td>\n",
       "      <td>english</td>\n",
       "      <td>single</td>\n",
       "    </tr>\n",
       "    <tr>\n",
       "      <th>1</th>\n",
       "      <td>35</td>\n",
       "      <td>average</td>\n",
       "      <td>mostly other</td>\n",
       "      <td>often</td>\n",
       "      <td>sometimes</td>\n",
       "      <td>working on space camp</td>\n",
       "      <td>i am a chef: this is what that means.&lt;br /&gt;\\n1...</td>\n",
       "      <td>dedicating everyday to being an unbelievable b...</td>\n",
       "      <td>being silly. having ridiculous amonts of fun w...</td>\n",
       "      <td>NaN</td>\n",
       "      <td>...</td>\n",
       "      <td>oakland, california</td>\n",
       "      <td>doesn&amp;rsquo;t have kids, but might want them</td>\n",
       "      <td>straight</td>\n",
       "      <td>likes dogs and likes cats</td>\n",
       "      <td>agnosticism but not too serious about it</td>\n",
       "      <td>m</td>\n",
       "      <td>cancer</td>\n",
       "      <td>no</td>\n",
       "      <td>english (fluently), spanish (poorly), french (...</td>\n",
       "      <td>single</td>\n",
       "    </tr>\n",
       "    <tr>\n",
       "      <th>2</th>\n",
       "      <td>38</td>\n",
       "      <td>thin</td>\n",
       "      <td>anything</td>\n",
       "      <td>socially</td>\n",
       "      <td>NaN</td>\n",
       "      <td>graduated from masters program</td>\n",
       "      <td>i'm not ashamed of much, but writing public te...</td>\n",
       "      <td>i make nerdy software for musicians, artists, ...</td>\n",
       "      <td>improvising in different contexts. alternating...</td>\n",
       "      <td>my large jaw and large glasses are the physica...</td>\n",
       "      <td>...</td>\n",
       "      <td>san francisco, california</td>\n",
       "      <td>NaN</td>\n",
       "      <td>straight</td>\n",
       "      <td>has cats</td>\n",
       "      <td>NaN</td>\n",
       "      <td>m</td>\n",
       "      <td>pisces but it doesn&amp;rsquo;t matter</td>\n",
       "      <td>no</td>\n",
       "      <td>english, french, c++</td>\n",
       "      <td>available</td>\n",
       "    </tr>\n",
       "    <tr>\n",
       "      <th>3</th>\n",
       "      <td>23</td>\n",
       "      <td>thin</td>\n",
       "      <td>vegetarian</td>\n",
       "      <td>socially</td>\n",
       "      <td>NaN</td>\n",
       "      <td>working on college/university</td>\n",
       "      <td>i work in a library and go to school. . .</td>\n",
       "      <td>reading things written by old dead people</td>\n",
       "      <td>playing synthesizers and organizing books acco...</td>\n",
       "      <td>socially awkward but i do my best</td>\n",
       "      <td>...</td>\n",
       "      <td>berkeley, california</td>\n",
       "      <td>doesn&amp;rsquo;t want kids</td>\n",
       "      <td>straight</td>\n",
       "      <td>likes cats</td>\n",
       "      <td>NaN</td>\n",
       "      <td>m</td>\n",
       "      <td>pisces</td>\n",
       "      <td>no</td>\n",
       "      <td>english, german (poorly)</td>\n",
       "      <td>single</td>\n",
       "    </tr>\n",
       "    <tr>\n",
       "      <th>4</th>\n",
       "      <td>29</td>\n",
       "      <td>athletic</td>\n",
       "      <td>NaN</td>\n",
       "      <td>socially</td>\n",
       "      <td>never</td>\n",
       "      <td>graduated from college/university</td>\n",
       "      <td>hey how's it going? currently vague on the pro...</td>\n",
       "      <td>work work work work + play</td>\n",
       "      <td>creating imagery to look at:&lt;br /&gt;\\nhttp://bag...</td>\n",
       "      <td>i smile a lot and my inquisitive nature</td>\n",
       "      <td>...</td>\n",
       "      <td>san francisco, california</td>\n",
       "      <td>NaN</td>\n",
       "      <td>straight</td>\n",
       "      <td>likes dogs and likes cats</td>\n",
       "      <td>NaN</td>\n",
       "      <td>m</td>\n",
       "      <td>aquarius</td>\n",
       "      <td>no</td>\n",
       "      <td>english</td>\n",
       "      <td>single</td>\n",
       "    </tr>\n",
       "  </tbody>\n",
       "</table>\n",
       "<p>5 rows × 31 columns</p>\n",
       "</div>"
      ],
      "text/plain": [
       "   age       body_type               diet    drinks      drugs  \\\n",
       "0   22  a little extra  strictly anything  socially      never   \n",
       "1   35         average       mostly other     often  sometimes   \n",
       "2   38            thin           anything  socially        NaN   \n",
       "3   23            thin         vegetarian  socially        NaN   \n",
       "4   29        athletic                NaN  socially      never   \n",
       "\n",
       "                           education  \\\n",
       "0      working on college/university   \n",
       "1              working on space camp   \n",
       "2     graduated from masters program   \n",
       "3      working on college/university   \n",
       "4  graduated from college/university   \n",
       "\n",
       "                                              essay0  \\\n",
       "0  about me:<br />\\n<br />\\ni would love to think...   \n",
       "1  i am a chef: this is what that means.<br />\\n1...   \n",
       "2  i'm not ashamed of much, but writing public te...   \n",
       "3          i work in a library and go to school. . .   \n",
       "4  hey how's it going? currently vague on the pro...   \n",
       "\n",
       "                                              essay1  \\\n",
       "0  currently working as an international agent fo...   \n",
       "1  dedicating everyday to being an unbelievable b...   \n",
       "2  i make nerdy software for musicians, artists, ...   \n",
       "3          reading things written by old dead people   \n",
       "4                         work work work work + play   \n",
       "\n",
       "                                              essay2  \\\n",
       "0  making people laugh.<br />\\nranting about a go...   \n",
       "1  being silly. having ridiculous amonts of fun w...   \n",
       "2  improvising in different contexts. alternating...   \n",
       "3  playing synthesizers and organizing books acco...   \n",
       "4  creating imagery to look at:<br />\\nhttp://bag...   \n",
       "\n",
       "                                              essay3  ...  \\\n",
       "0  the way i look. i am a six foot half asian, ha...  ...   \n",
       "1                                                NaN  ...   \n",
       "2  my large jaw and large glasses are the physica...  ...   \n",
       "3                  socially awkward but i do my best  ...   \n",
       "4            i smile a lot and my inquisitive nature  ...   \n",
       "\n",
       "                          location  \\\n",
       "0  south san francisco, california   \n",
       "1              oakland, california   \n",
       "2        san francisco, california   \n",
       "3             berkeley, california   \n",
       "4        san francisco, california   \n",
       "\n",
       "                                      offspring orientation  \\\n",
       "0  doesn&rsquo;t have kids, but might want them    straight   \n",
       "1  doesn&rsquo;t have kids, but might want them    straight   \n",
       "2                                           NaN    straight   \n",
       "3                       doesn&rsquo;t want kids    straight   \n",
       "4                                           NaN    straight   \n",
       "\n",
       "                        pets                                  religion sex  \\\n",
       "0  likes dogs and likes cats     agnosticism and very serious about it   m   \n",
       "1  likes dogs and likes cats  agnosticism but not too serious about it   m   \n",
       "2                   has cats                                       NaN   m   \n",
       "3                 likes cats                                       NaN   m   \n",
       "4  likes dogs and likes cats                                       NaN   m   \n",
       "\n",
       "                                 sign     smokes  \\\n",
       "0                              gemini  sometimes   \n",
       "1                              cancer         no   \n",
       "2  pisces but it doesn&rsquo;t matter         no   \n",
       "3                              pisces         no   \n",
       "4                            aquarius         no   \n",
       "\n",
       "                                              speaks     status  \n",
       "0                                            english     single  \n",
       "1  english (fluently), spanish (poorly), french (...     single  \n",
       "2                               english, french, c++  available  \n",
       "3                           english, german (poorly)     single  \n",
       "4                                            english     single  \n",
       "\n",
       "[5 rows x 31 columns]"
      ]
     },
     "execution_count": 208,
     "metadata": {},
     "output_type": "execute_result"
    }
   ],
   "source": [
    "df.head()"
   ]
  },
  {
   "cell_type": "markdown",
   "id": "b317329a",
   "metadata": {},
   "source": [
    "The given data has 31 columns and 59946"
   ]
  },
  {
   "cell_type": "markdown",
   "id": "d4f874e9",
   "metadata": {},
   "source": [
    "### Explore the Data"
   ]
  },
  {
   "cell_type": "code",
   "execution_count": 209,
   "id": "88920da8",
   "metadata": {},
   "outputs": [
    {
     "name": "stdout",
     "output_type": "stream",
     "text": [
      "<class 'pandas.core.frame.DataFrame'>\n",
      "RangeIndex: 59946 entries, 0 to 59945\n",
      "Data columns (total 31 columns):\n",
      " #   Column       Non-Null Count  Dtype  \n",
      "---  ------       --------------  -----  \n",
      " 0   age          59946 non-null  int64  \n",
      " 1   body_type    54650 non-null  object \n",
      " 2   diet         35551 non-null  object \n",
      " 3   drinks       56961 non-null  object \n",
      " 4   drugs        45866 non-null  object \n",
      " 5   education    53318 non-null  object \n",
      " 6   essay0       54458 non-null  object \n",
      " 7   essay1       52374 non-null  object \n",
      " 8   essay2       50308 non-null  object \n",
      " 9   essay3       48470 non-null  object \n",
      " 10  essay4       49409 non-null  object \n",
      " 11  essay5       49096 non-null  object \n",
      " 12  essay6       46175 non-null  object \n",
      " 13  essay7       47495 non-null  object \n",
      " 14  essay8       40721 non-null  object \n",
      " 15  essay9       47343 non-null  object \n",
      " 16  ethnicity    54266 non-null  object \n",
      " 17  height       59943 non-null  float64\n",
      " 18  income       59946 non-null  int64  \n",
      " 19  job          51748 non-null  object \n",
      " 20  last_online  59946 non-null  object \n",
      " 21  location     59946 non-null  object \n",
      " 22  offspring    24385 non-null  object \n",
      " 23  orientation  59946 non-null  object \n",
      " 24  pets         40025 non-null  object \n",
      " 25  religion     39720 non-null  object \n",
      " 26  sex          59946 non-null  object \n",
      " 27  sign         48890 non-null  object \n",
      " 28  smokes       54434 non-null  object \n",
      " 29  speaks       59896 non-null  object \n",
      " 30  status       59946 non-null  object \n",
      "dtypes: float64(1), int64(2), object(28)\n",
      "memory usage: 14.2+ MB\n"
     ]
    }
   ],
   "source": [
    "df.info()"
   ]
  },
  {
   "cell_type": "markdown",
   "id": "3732b9de",
   "metadata": {},
   "source": [
    "The columns in the dataset include: \n",
    "    \n",
    "CATEGORICAL VARIABLES\n",
    "\n",
    "- **body_type:** categorical variable of body type of user\n",
    "- **diet:** categorical variable of dietary information\n",
    "- **drinks:**  categorical variable of alcohol consumption\n",
    "- **drugs:** categorical variable of drug usage\n",
    "- **education:** categorical variable of educational attainment\n",
    "- **ethnicity:** categorical variable of ethnic backgrounds\n",
    "- **job:** categorical variable of employment description\n",
    "- **offspring:** categorical variable of children status\n",
    "- **orientation:** categorical variable of sexual orientation\n",
    "- **pets:** categorical variable of pet preferences\n",
    "- **religion:** categorical variable of religious background\n",
    "- **sex:** categorical variable of gender\n",
    "- **sign:** categorical variable of astrological symbol\n",
    "- **smokes:** categorical variable of smoking consumption\n",
    "- **speaks:** categorical variable of language spoken\n",
    "- **status:** categorical variable of relationship status\n",
    "- **last_online:** date variable of last login\n",
    "- **location:** categorical variable of user locations\n",
    "    \n",
    "NUMERICAL VARIABLES\n",
    "\n",
    "- **age:** continuous variable of age of user\n",
    "- **height:** continuous variable of height of user\n",
    "- **income:** continuous variable of income of user\n",
    "\n",
    "And a set of open short-answer responses to :\n",
    "\n",
    "- **essay0:** My self summary\n",
    "- **essay1:**  What I’m doing with my life\n",
    "- **essay2:** I’m really good at\n",
    "- **essay3:** The first thing people usually notice about me\n",
    "- **essay4:** Favorite books, movies, show, music, and food\n",
    "- **essay5:** The six things I could never do without\n",
    "- **essay6:** I spend a lot of time thinking about\n",
    "- **essay7:** On a typical Friday night I am\n",
    "- **essay8:** The most private thing I am willing to admit\n",
    "- **essay9:** You should message me if…"
   ]
  },
  {
   "cell_type": "markdown",
   "id": "37016df4",
   "metadata": {},
   "source": [
    "The dataframe contains only three numerical columns \n",
    "which are the age, height, income"
   ]
  },
  {
   "cell_type": "code",
   "execution_count": 210,
   "id": "7f7f8405",
   "metadata": {},
   "outputs": [
    {
     "data": {
      "text/plain": [
       "age                0\n",
       "body_type       5296\n",
       "diet           24395\n",
       "drinks          2985\n",
       "drugs          14080\n",
       "education       6628\n",
       "essay0          5488\n",
       "essay1          7572\n",
       "essay2          9638\n",
       "essay3         11476\n",
       "essay4         10537\n",
       "essay5         10850\n",
       "essay6         13771\n",
       "essay7         12451\n",
       "essay8         19225\n",
       "essay9         12603\n",
       "ethnicity       5680\n",
       "height             3\n",
       "income             0\n",
       "job             8198\n",
       "last_online        0\n",
       "location           0\n",
       "offspring      35561\n",
       "orientation        0\n",
       "pets           19921\n",
       "religion       20226\n",
       "sex                0\n",
       "sign           11056\n",
       "smokes          5512\n",
       "speaks            50\n",
       "status             0\n",
       "dtype: int64"
      ]
     },
     "execution_count": 210,
     "metadata": {},
     "output_type": "execute_result"
    }
   ],
   "source": [
    "df.isnull().sum()"
   ]
  },
  {
   "cell_type": "code",
   "execution_count": 211,
   "id": "bbbb365b",
   "metadata": {},
   "outputs": [
    {
     "data": {
      "text/plain": [
       "273202"
      ]
     },
     "execution_count": 211,
     "metadata": {},
     "output_type": "execute_result"
    }
   ],
   "source": [
    "df.isnull().sum().sum()"
   ]
  },
  {
   "cell_type": "markdown",
   "id": "f495ab42",
   "metadata": {},
   "source": [
    "There 273,202 null values in the dataset in total"
   ]
  },
  {
   "cell_type": "markdown",
   "id": "04bc3d13",
   "metadata": {},
   "source": [
    "### EXPLORING NULL VALUES"
   ]
  },
  {
   "cell_type": "code",
   "execution_count": 212,
   "id": "5ba2281f",
   "metadata": {},
   "outputs": [
    {
     "name": "stdout",
     "output_type": "stream",
     "text": [
      "The age column has 0 null values\n",
      "The body_type column has 5296 null values\n",
      "The diet column has 24395 null values\n",
      "The drinks column has 2985 null values\n",
      "The drugs column has 14080 null values\n",
      "The education column has 6628 null values\n",
      "The essay0 column has 5488 null values\n",
      "The essay1 column has 7572 null values\n",
      "The essay2 column has 9638 null values\n",
      "The essay3 column has 11476 null values\n",
      "The essay4 column has 10537 null values\n",
      "The essay5 column has 10850 null values\n",
      "The essay6 column has 13771 null values\n",
      "The essay7 column has 12451 null values\n",
      "The essay8 column has 19225 null values\n",
      "The essay9 column has 12603 null values\n",
      "The ethnicity column has 5680 null values\n",
      "The height column has 3 null values\n",
      "The income column has 0 null values\n",
      "The job column has 8198 null values\n",
      "The last_online column has 0 null values\n",
      "The location column has 0 null values\n",
      "The offspring column has 35561 null values\n",
      "The orientation column has 0 null values\n",
      "The pets column has 19921 null values\n",
      "The religion column has 20226 null values\n",
      "The sex column has 0 null values\n",
      "The sign column has 11056 null values\n",
      "The smokes column has 5512 null values\n",
      "The speaks column has 50 null values\n",
      "The status column has 0 null values\n"
     ]
    }
   ],
   "source": [
    "null_values = list(df.isnull().sum())\n",
    "columns = list(df.columns)\n",
    "\n",
    "for null in list(zip(columns, null_values)):\n",
    "    print(f\"The {null[0]} column has {null[1]} null values\")"
   ]
  },
  {
   "cell_type": "code",
   "execution_count": 213,
   "id": "ade29a1a",
   "metadata": {},
   "outputs": [
    {
     "data": {
      "image/png": "[encoded data removed]",
      "text/plain": [
       "<Figure size 1080x720 with 1 Axes>"
      ]
     },
     "metadata": {},
     "output_type": "display_data"
    }
   ],
   "source": [
    "fig = plt.figure(figsize=(15, 10))\n",
    "sns.set_theme(style=\"whitegrid\")\n",
    "sns.barplot(x=columns, y=null_values)\n",
    "plt.xticks(rotation=90)\n",
    "plt.show()"
   ]
  },
  {
   "cell_type": "markdown",
   "id": "2d779366",
   "metadata": {},
   "source": [
    "It can be seen that the offspring column had a lot of null values\n",
    "My guess is because a lot of people without children decided not fill that part\n",
    "so we assume the null values can replaced with 0\n",
    "\n",
    "The next column with lots of null values is the diet column\n",
    "and this can be attributed to people who do not know their dietary information\n",
    "\n",
    "The null values for pet and religion can be attributed to people who do not have a pet\n",
    " and religion respectively.\n",
    " \n",
    "since there no null values for columns like age, income, height and location, we can assume\n",
    "that there are no rows with all null values in the dataset"
   ]
  },
  {
   "cell_type": "markdown",
   "id": "7bccfad8",
   "metadata": {},
   "source": [
    "### SINGLE VARIABLE EXPLORATION"
   ]
  },
  {
   "cell_type": "markdown",
   "id": "ebe373bb",
   "metadata": {},
   "source": [
    "#### EXPLORATION OF CATEGORICAL VARIABLES"
   ]
  },
  {
   "cell_type": "markdown",
   "id": "628b83b8",
   "metadata": {},
   "source": [
    "Since the work is based on the classification of the sign\n",
    "we first have to check the unique signs that are available in the dataset"
   ]
  },
  {
   "cell_type": "code",
   "execution_count": 214,
   "id": "b907884e",
   "metadata": {},
   "outputs": [
    {
     "data": {
      "text/plain": [
       "48"
      ]
     },
     "execution_count": 214,
     "metadata": {},
     "output_type": "execute_result"
    }
   ],
   "source": [
    "# Print the unique values in the sign column\n",
    "df['sign'].nunique()"
   ]
  },
  {
   "cell_type": "code",
   "execution_count": 215,
   "id": "041d0287",
   "metadata": {},
   "outputs": [
    {
     "data": {
      "text/plain": [
       "array(['gemini', 'cancer', 'pisces but it doesn&rsquo;t matter', 'pisces',\n",
       "       'aquarius', 'taurus', 'virgo', 'sagittarius',\n",
       "       'gemini but it doesn&rsquo;t matter',\n",
       "       'cancer but it doesn&rsquo;t matter',\n",
       "       'leo but it doesn&rsquo;t matter', nan,\n",
       "       'aquarius but it doesn&rsquo;t matter',\n",
       "       'aries and it&rsquo;s fun to think about',\n",
       "       'libra but it doesn&rsquo;t matter',\n",
       "       'pisces and it&rsquo;s fun to think about', 'libra',\n",
       "       'taurus but it doesn&rsquo;t matter',\n",
       "       'sagittarius but it doesn&rsquo;t matter',\n",
       "       'scorpio and it matters a lot',\n",
       "       'gemini and it&rsquo;s fun to think about',\n",
       "       'leo and it&rsquo;s fun to think about',\n",
       "       'cancer and it&rsquo;s fun to think about',\n",
       "       'libra and it&rsquo;s fun to think about',\n",
       "       'aquarius and it&rsquo;s fun to think about',\n",
       "       'virgo but it doesn&rsquo;t matter',\n",
       "       'scorpio and it&rsquo;s fun to think about',\n",
       "       'capricorn but it doesn&rsquo;t matter', 'scorpio',\n",
       "       'capricorn and it&rsquo;s fun to think about', 'leo',\n",
       "       'aries but it doesn&rsquo;t matter', 'aries',\n",
       "       'scorpio but it doesn&rsquo;t matter',\n",
       "       'sagittarius and it&rsquo;s fun to think about',\n",
       "       'libra and it matters a lot',\n",
       "       'taurus and it&rsquo;s fun to think about',\n",
       "       'leo and it matters a lot',\n",
       "       'virgo and it&rsquo;s fun to think about',\n",
       "       'cancer and it matters a lot', 'capricorn',\n",
       "       'pisces and it matters a lot', 'aries and it matters a lot',\n",
       "       'capricorn and it matters a lot', 'aquarius and it matters a lot',\n",
       "       'sagittarius and it matters a lot', 'gemini and it matters a lot',\n",
       "       'taurus and it matters a lot', 'virgo and it matters a lot'],\n",
       "      dtype=object)"
      ]
     },
     "execution_count": 215,
     "metadata": {},
     "output_type": "execute_result"
    }
   ],
   "source": [
    "df['sign'].unique()"
   ]
  },
  {
   "cell_type": "code",
   "execution_count": 216,
   "id": "f5f05c75",
   "metadata": {},
   "outputs": [],
   "source": [
    "def get_sign(column):\n",
    "    lookUp = ['gemini', 'aquarius', 'cancer', 'leo', 'sagittarius',\n",
    "              'taurus', 'scorpio', 'pisces', 'libra', 'virgo',\n",
    "             'capricorn', 'aries']\n",
    "    for sign in column.str.split():\n",
    "        if sign in lookUp:\n",
    "            return sign"
   ]
  },
  {
   "cell_type": "code",
   "execution_count": 217,
   "id": "8b468d5b",
   "metadata": {},
   "outputs": [],
   "source": [
    "df['improved_sign'] = df.sign.str.split().str.get(0)"
   ]
  },
  {
   "cell_type": "code",
   "execution_count": 218,
   "id": "73a132fa",
   "metadata": {},
   "outputs": [
    {
     "data": {
      "text/plain": [
       "array(['gemini', 'cancer', 'pisces', 'aquarius', 'taurus', 'virgo',\n",
       "       'sagittarius', 'leo', nan, 'aries', 'libra', 'scorpio',\n",
       "       'capricorn'], dtype=object)"
      ]
     },
     "execution_count": 218,
     "metadata": {},
     "output_type": "execute_result"
    }
   ],
   "source": [
    "df['improved_sign'].unique()"
   ]
  },
  {
   "cell_type": "code",
   "execution_count": 219,
   "id": "92520a38",
   "metadata": {},
   "outputs": [
    {
     "data": {
      "text/plain": [
       "12"
      ]
     },
     "execution_count": 219,
     "metadata": {},
     "output_type": "execute_result"
    }
   ],
   "source": [
    "df['improved_sign'].nunique()"
   ]
  },
  {
   "cell_type": "markdown",
   "id": "8ec31955",
   "metadata": {},
   "source": [
    "#### age\n",
    "\n",
    "The next plot shows the distribution of age in the group. It seems that most users are in their late 20s to early 30s."
   ]
  },
  {
   "cell_type": "code",
   "execution_count": 220,
   "id": "8f73f64e",
   "metadata": {},
   "outputs": [
    {
     "data": {
      "image/png": "[encoded data removed]",
      "text/plain": [
       "<Figure size 360x360 with 1 Axes>"
      ]
     },
     "metadata": {},
     "output_type": "display_data"
    }
   ],
   "source": [
    "sns.displot(data=df, x=\"age\", kind=\"hist\", binwidth = 5);"
   ]
  },
  {
   "cell_type": "code",
   "execution_count": 221,
   "id": "b5b38f06",
   "metadata": {},
   "outputs": [
    {
     "data": {
      "image/png": "[encoded data removed]",
      "text/plain": [
       "<Figure size 410.35x360 with 1 Axes>"
      ]
     },
     "metadata": {},
     "output_type": "display_data"
    }
   ],
   "source": [
    "sns.displot(data=df, x=\"age\", hue=\"sex\", kind=\"hist\", binwidth = 5, multiple = \"stack\");"
   ]
  },
  {
   "cell_type": "code",
   "execution_count": 222,
   "id": "a5452891",
   "metadata": {},
   "outputs": [
    {
     "data": {
      "image/png": "[encoded data removed]",
      "text/plain": [
       "<Figure size 360x360 with 1 Axes>"
      ]
     },
     "metadata": {},
     "output_type": "display_data"
    }
   ],
   "source": [
    "sns.displot(data=df, x=\"height\", kind=\"hist\", binwidth = 2);"
   ]
  },
  {
   "cell_type": "code",
   "execution_count": 223,
   "id": "e0209dee",
   "metadata": {},
   "outputs": [
    {
     "data": {
      "image/png": "[encoded data removed]",
      "text/plain": [
       "<Figure size 410.35x360 with 1 Axes>"
      ]
     },
     "metadata": {},
     "output_type": "display_data"
    }
   ],
   "source": [
    "sns.displot(data=df, x=\"height\",hue=\"sex\", kind=\"hist\", binwidth = 2, multiple = \"stack\");"
   ]
  },
  {
   "cell_type": "code",
   "execution_count": 224,
   "id": "a67fc20b",
   "metadata": {},
   "outputs": [
    {
     "data": {
      "text/plain": [
       "<seaborn.axisgrid.FacetGrid at 0x7f8ab459da90>"
      ]
     },
     "execution_count": 224,
     "metadata": {},
     "output_type": "execute_result"
    },
    {
     "data": {
      "image/png": "[encoded data removed]",
      "text/plain": [
       "<Figure size 410.35x360 with 1 Axes>"
      ]
     },
     "metadata": {},
     "output_type": "display_data"
    }
   ],
   "source": [
    "sns.displot(data=df, x=\"income\",hue=\"sex\", kind=\"hist\", binwidth = 50000, multiple = \"stack\")"
   ]
  },
  {
   "cell_type": "code",
   "execution_count": 225,
   "id": "fc33cfd7",
   "metadata": {},
   "outputs": [
    {
     "data": {
      "text/plain": [
       "<AxesSubplot:xlabel='count', ylabel='sex'>"
      ]
     },
     "execution_count": 225,
     "metadata": {},
     "output_type": "execute_result"
    },
    {
     "data": {
      "image/png": "[encoded data removed]",
      "text/plain": [
       "<Figure size 432x288 with 1 Axes>"
      ]
     },
     "metadata": {},
     "output_type": "display_data"
    }
   ],
   "source": [
    "sns.countplot(data=df, y=\"sex\")"
   ]
  },
  {
   "cell_type": "code",
   "execution_count": 226,
   "id": "e7182c1a",
   "metadata": {},
   "outputs": [
    {
     "data": {
      "text/plain": [
       "<AxesSubplot:xlabel='count', ylabel='body_type'>"
      ]
     },
     "execution_count": 226,
     "metadata": {},
     "output_type": "execute_result"
    },
    {
     "data": {
      "image/png": "[encoded data removed]",
      "text/plain": [
       "<Figure size 432x288 with 1 Axes>"
      ]
     },
     "metadata": {},
     "output_type": "display_data"
    }
   ],
   "source": [
    "sns.countplot(data=df, y=\"body_type\")"
   ]
  },
  {
   "cell_type": "code",
   "execution_count": 227,
   "id": "1177290e",
   "metadata": {},
   "outputs": [
    {
     "data": {
      "text/plain": [
       "<AxesSubplot:xlabel='count', ylabel='body_type'>"
      ]
     },
     "execution_count": 227,
     "metadata": {},
     "output_type": "execute_result"
    },
    {
     "data": {
      "image/png": "[encoded data removed]",
      "text/plain": [
       "<Figure size 432x288 with 1 Axes>"
      ]
     },
     "metadata": {},
     "output_type": "display_data"
    }
   ],
   "source": [
    "sns.countplot(data=df, y=\"body_type\", hue = \"sex\")"
   ]
  },
  {
   "cell_type": "code",
   "execution_count": 228,
   "id": "6eeb4dad",
   "metadata": {},
   "outputs": [
    {
     "data": {
      "image/png": "[encoded data removed]",
      "text/plain": [
       "<Figure size 432x288 with 1 Axes>"
      ]
     },
     "metadata": {},
     "output_type": "display_data"
    }
   ],
   "source": [
    "sns.countplot(data=df, y=\"drugs\");"
   ]
  },
  {
   "cell_type": "code",
   "execution_count": 229,
   "id": "158f36fd",
   "metadata": {},
   "outputs": [
    {
     "data": {
      "text/plain": [
       "<AxesSubplot:xlabel='count', ylabel='orientation'>"
      ]
     },
     "execution_count": 229,
     "metadata": {},
     "output_type": "execute_result"
    },
    {
     "data": {
      "image/png": "[encoded data removed]",
      "text/plain": [
       "<Figure size 432x288 with 1 Axes>"
      ]
     },
     "metadata": {},
     "output_type": "display_data"
    }
   ],
   "source": [
    "sns.countplot(data=df, y=\"orientation\")"
   ]
  },
  {
   "cell_type": "code",
   "execution_count": 230,
   "id": "37ee60bf",
   "metadata": {},
   "outputs": [
    {
     "data": {
      "text/plain": [
       "<AxesSubplot:xlabel='count', ylabel='orientation'>"
      ]
     },
     "execution_count": 230,
     "metadata": {},
     "output_type": "execute_result"
    },
    {
     "data": {
      "image/png": "[encoded data removed]",
      "text/plain": [
       "<Figure size 432x288 with 1 Axes>"
      ]
     },
     "metadata": {},
     "output_type": "display_data"
    }
   ],
   "source": [
    "sns.countplot(data=df, y=\"orientation\", hue = \"sex\")"
   ]
  },
  {
   "cell_type": "code",
   "execution_count": 231,
   "id": "60b49f0d",
   "metadata": {},
   "outputs": [
    {
     "name": "stdout",
     "output_type": "stream",
     "text": [
      "  sex  count\n",
      "0   f  24117\n",
      "1   m  35829\n"
     ]
    },
    {
     "data": {
      "image/png": "[encoded data removed]",
      "text/plain": [
       "<Figure size 720x576 with 1 Axes>"
      ]
     },
     "metadata": {},
     "output_type": "display_data"
    },
    {
     "data": {
      "image/png": "[encoded data removed]",
      "text/plain": [
       "<Figure size 720x576 with 1 Axes>"
      ]
     },
     "metadata": {},
     "output_type": "display_data"
    },
    {
     "data": {
      "image/png": "[encoded data removed]",
      "text/plain": [
       "<Figure size 720x576 with 1 Axes>"
      ]
     },
     "metadata": {},
     "output_type": "display_data"
    }
   ],
   "source": [
    "#Proportion of Men and Women\n",
    "\n",
    "sex_df = df.groupby('sex')['age'].count().reset_index()\n",
    "sex_df.rename(columns = {'age':'count'}, inplace = True)\n",
    "print(sex_df)\n",
    "\n",
    "plt.figure(figsize = (10,8))\n",
    "ax1 = plt.subplot(1,1,1)\n",
    "plt.pie(sex_df['count'], labels = sex_df['sex'], colors = ['pink', 'blue'], autopct = '%d%%')\n",
    "plt.axis('equal')\n",
    "plt.title('Distribution of Men vs Women')\n",
    "plt.show()\n",
    "\n",
    "#Age distributions\n",
    "age_men = df[df['sex'] == 'm']['age']\n",
    "age_women = df[df['sex'] == 'f']['age']\n",
    "\n",
    "plt.close('all')\n",
    "plt.figure(figsize = (10,8))\n",
    "ax2 = plt.subplot(1,1,1)\n",
    "plt.hist(age_men, alpha = 0.3, color = 'blue', density = True, bins = 20)\n",
    "plt.hist(age_women, alpha = 0.4, color = 'orange', density = True, bins = 20)\n",
    "plt.legend(['mens ages', 'womens ages'])\n",
    "plt.title('Age Distributions of Men and Women')\n",
    "ax2.set_xticks(range(0,110,5))\n",
    "plt.show()\n",
    "\n",
    "#Height distributions\n",
    "height_men = df[df['sex'] == 'm']['height']\n",
    "height_women = df[df['sex'] == 'f']['height']\n",
    "\n",
    "plt.close('all')\n",
    "plt.figure(figsize = (10,8))\n",
    "ax3 = plt.subplot(1,1,1)\n",
    "plt.hist(height_men, alpha = 0.3, color = 'blue', density = True, bins = 20)\n",
    "plt.hist(height_women, alpha = 0.4, color = 'orange', density = True, bins = 20)\n",
    "plt.axis([50,100, 0, 0.15])\n",
    "plt.legend(['mens heights', 'womens heights'])\n",
    "plt.title('Height Distributions of Men and Women')\n",
    "ax3.set_xticks(range(50,100,5))\n",
    "plt.show()"
   ]
  },
  {
   "cell_type": "code",
   "execution_count": 232,
   "id": "e6ad274c",
   "metadata": {},
   "outputs": [
    {
     "name": "stdout",
     "output_type": "stream",
     "text": [
      "  sex orientation  counts\n",
      "0   f    bisexual    1996\n",
      "1   f         gay    1588\n",
      "2   f    straight   20533\n",
      "3   m    bisexual     771\n",
      "4   m         gay    3985\n",
      "5   m    straight   31073\n"
     ]
    },
    {
     "data": {
      "image/png": "[encoded data removed]",
      "text/plain": [
       "<Figure size 720x576 with 2 Axes>"
      ]
     },
     "metadata": {},
     "output_type": "display_data"
    }
   ],
   "source": [
    "orientation = df.groupby(['sex', 'orientation'])['age'].count().reset_index()\n",
    "orientation.rename(columns = {'age' : 'counts'}, inplace = True)\n",
    "print(orientation)\n",
    "\n",
    "explode = [0,0.1,0.1]\n",
    "\n",
    "plt.close('all')\n",
    "plt.figure(figsize = (10,8))\n",
    "ax4 = plt.subplot(1,2,1)\n",
    "plt.pie(orientation[orientation['sex'] == 'm']['counts'], labels = orientation[orientation['sex'] == 'm']['orientation'], autopct = '%d%%', explode = explode)\n",
    "plt.axis('equal')\n",
    "ax4.set_title('Orientation of Men')\n",
    "ax5 = plt.subplot(1,2,2)\n",
    "plt.pie(orientation[orientation['sex'] == 'f']['counts'], labels = orientation[orientation['sex'] == 'f']['orientation'], autopct = '%d%%', explode = explode)\n",
    "plt.axis('equal')\n",
    "ax5.set_title('Orientation of Women')\n",
    "plt.suptitle('Orientation of Men vs Women')\n",
    "plt.show()"
   ]
  },
  {
   "cell_type": "markdown",
   "id": "16ad6d2a",
   "metadata": {},
   "source": [
    "TRYING TO PREDICT USERS ZODIAC SIGNS FROM THE INFORMATION ON THEIR PROFILES"
   ]
  },
  {
   "cell_type": "markdown",
   "id": "5fe09436",
   "metadata": {},
   "source": [
    "### adding some columns to the dataset"
   ]
  },
  {
   "cell_type": "code",
   "execution_count": 233,
   "id": "9bc05c33",
   "metadata": {},
   "outputs": [],
   "source": [
    "added_drinks = {\"not at all\": 0, \"rarely\": 1, \"socially\": 2, \"often\": 3, \"very often\": 4, \"desperately\": 5}"
   ]
  },
  {
   "cell_type": "code",
   "execution_count": 234,
   "id": "3afb12e8",
   "metadata": {},
   "outputs": [],
   "source": [
    "df['encoded_drinks'] = df.drinks.map(added_drinks)"
   ]
  },
  {
   "cell_type": "code",
   "execution_count": 235,
   "id": "00923dad",
   "metadata": {},
   "outputs": [
    {
     "data": {
      "text/plain": [
       "array(['never', 'sometimes', nan, 'often'], dtype=object)"
      ]
     },
     "execution_count": 235,
     "metadata": {},
     "output_type": "execute_result"
    }
   ],
   "source": [
    "df.drugs.unique()"
   ]
  },
  {
   "cell_type": "code",
   "execution_count": 236,
   "id": "c49bf25f",
   "metadata": {},
   "outputs": [],
   "source": [
    "encode_drugs = {\"never\": 0, \"sometimes\": 1, \"often\": 2}"
   ]
  },
  {
   "cell_type": "code",
   "execution_count": 237,
   "id": "e8b5a628",
   "metadata": {},
   "outputs": [],
   "source": [
    "df[\"encoded_drug\"] = df.drugs.map(encode_drugs)"
   ]
  },
  {
   "cell_type": "code",
   "execution_count": 238,
   "id": "4b14d8f2",
   "metadata": {},
   "outputs": [],
   "source": [
    "df[\"encoded_drug\"] = df[\"encoded_drug\"].fillna(0)"
   ]
  },
  {
   "cell_type": "code",
   "execution_count": 239,
   "id": "e3fa3d69",
   "metadata": {},
   "outputs": [
    {
     "data": {
      "text/html": [
       "<div>\n",
       "<style scoped>\n",
       "    .dataframe tbody tr th:only-of-type {\n",
       "        vertical-align: middle;\n",
       "    }\n",
       "\n",
       "    .dataframe tbody tr th {\n",
       "        vertical-align: top;\n",
       "    }\n",
       "\n",
       "    .dataframe thead th {\n",
       "        text-align: right;\n",
       "    }\n",
       "</style>\n",
       "<table border=\"1\" class=\"dataframe\">\n",
       "  <thead>\n",
       "    <tr style=\"text-align: right;\">\n",
       "      <th></th>\n",
       "      <th>age</th>\n",
       "      <th>body_type</th>\n",
       "      <th>diet</th>\n",
       "      <th>drinks</th>\n",
       "      <th>drugs</th>\n",
       "      <th>education</th>\n",
       "      <th>essay0</th>\n",
       "      <th>essay1</th>\n",
       "      <th>essay2</th>\n",
       "      <th>essay3</th>\n",
       "      <th>...</th>\n",
       "      <th>pets</th>\n",
       "      <th>religion</th>\n",
       "      <th>sex</th>\n",
       "      <th>sign</th>\n",
       "      <th>smokes</th>\n",
       "      <th>speaks</th>\n",
       "      <th>status</th>\n",
       "      <th>improved_sign</th>\n",
       "      <th>encoded_drinks</th>\n",
       "      <th>encoded_drug</th>\n",
       "    </tr>\n",
       "  </thead>\n",
       "  <tbody>\n",
       "    <tr>\n",
       "      <th>0</th>\n",
       "      <td>22</td>\n",
       "      <td>a little extra</td>\n",
       "      <td>strictly anything</td>\n",
       "      <td>socially</td>\n",
       "      <td>never</td>\n",
       "      <td>working on college/university</td>\n",
       "      <td>about me:&lt;br /&gt;\\n&lt;br /&gt;\\ni would love to think...</td>\n",
       "      <td>currently working as an international agent fo...</td>\n",
       "      <td>making people laugh.&lt;br /&gt;\\nranting about a go...</td>\n",
       "      <td>the way i look. i am a six foot half asian, ha...</td>\n",
       "      <td>...</td>\n",
       "      <td>likes dogs and likes cats</td>\n",
       "      <td>agnosticism and very serious about it</td>\n",
       "      <td>m</td>\n",
       "      <td>gemini</td>\n",
       "      <td>sometimes</td>\n",
       "      <td>english</td>\n",
       "      <td>single</td>\n",
       "      <td>gemini</td>\n",
       "      <td>2.0</td>\n",
       "      <td>0.0</td>\n",
       "    </tr>\n",
       "    <tr>\n",
       "      <th>1</th>\n",
       "      <td>35</td>\n",
       "      <td>average</td>\n",
       "      <td>mostly other</td>\n",
       "      <td>often</td>\n",
       "      <td>sometimes</td>\n",
       "      <td>working on space camp</td>\n",
       "      <td>i am a chef: this is what that means.&lt;br /&gt;\\n1...</td>\n",
       "      <td>dedicating everyday to being an unbelievable b...</td>\n",
       "      <td>being silly. having ridiculous amonts of fun w...</td>\n",
       "      <td>NaN</td>\n",
       "      <td>...</td>\n",
       "      <td>likes dogs and likes cats</td>\n",
       "      <td>agnosticism but not too serious about it</td>\n",
       "      <td>m</td>\n",
       "      <td>cancer</td>\n",
       "      <td>no</td>\n",
       "      <td>english (fluently), spanish (poorly), french (...</td>\n",
       "      <td>single</td>\n",
       "      <td>cancer</td>\n",
       "      <td>3.0</td>\n",
       "      <td>1.0</td>\n",
       "    </tr>\n",
       "    <tr>\n",
       "      <th>2</th>\n",
       "      <td>38</td>\n",
       "      <td>thin</td>\n",
       "      <td>anything</td>\n",
       "      <td>socially</td>\n",
       "      <td>NaN</td>\n",
       "      <td>graduated from masters program</td>\n",
       "      <td>i'm not ashamed of much, but writing public te...</td>\n",
       "      <td>i make nerdy software for musicians, artists, ...</td>\n",
       "      <td>improvising in different contexts. alternating...</td>\n",
       "      <td>my large jaw and large glasses are the physica...</td>\n",
       "      <td>...</td>\n",
       "      <td>has cats</td>\n",
       "      <td>NaN</td>\n",
       "      <td>m</td>\n",
       "      <td>pisces but it doesn&amp;rsquo;t matter</td>\n",
       "      <td>no</td>\n",
       "      <td>english, french, c++</td>\n",
       "      <td>available</td>\n",
       "      <td>pisces</td>\n",
       "      <td>2.0</td>\n",
       "      <td>0.0</td>\n",
       "    </tr>\n",
       "    <tr>\n",
       "      <th>3</th>\n",
       "      <td>23</td>\n",
       "      <td>thin</td>\n",
       "      <td>vegetarian</td>\n",
       "      <td>socially</td>\n",
       "      <td>NaN</td>\n",
       "      <td>working on college/university</td>\n",
       "      <td>i work in a library and go to school. . .</td>\n",
       "      <td>reading things written by old dead people</td>\n",
       "      <td>playing synthesizers and organizing books acco...</td>\n",
       "      <td>socially awkward but i do my best</td>\n",
       "      <td>...</td>\n",
       "      <td>likes cats</td>\n",
       "      <td>NaN</td>\n",
       "      <td>m</td>\n",
       "      <td>pisces</td>\n",
       "      <td>no</td>\n",
       "      <td>english, german (poorly)</td>\n",
       "      <td>single</td>\n",
       "      <td>pisces</td>\n",
       "      <td>2.0</td>\n",
       "      <td>0.0</td>\n",
       "    </tr>\n",
       "    <tr>\n",
       "      <th>4</th>\n",
       "      <td>29</td>\n",
       "      <td>athletic</td>\n",
       "      <td>NaN</td>\n",
       "      <td>socially</td>\n",
       "      <td>never</td>\n",
       "      <td>graduated from college/university</td>\n",
       "      <td>hey how's it going? currently vague on the pro...</td>\n",
       "      <td>work work work work + play</td>\n",
       "      <td>creating imagery to look at:&lt;br /&gt;\\nhttp://bag...</td>\n",
       "      <td>i smile a lot and my inquisitive nature</td>\n",
       "      <td>...</td>\n",
       "      <td>likes dogs and likes cats</td>\n",
       "      <td>NaN</td>\n",
       "      <td>m</td>\n",
       "      <td>aquarius</td>\n",
       "      <td>no</td>\n",
       "      <td>english</td>\n",
       "      <td>single</td>\n",
       "      <td>aquarius</td>\n",
       "      <td>2.0</td>\n",
       "      <td>0.0</td>\n",
       "    </tr>\n",
       "  </tbody>\n",
       "</table>\n",
       "<p>5 rows × 34 columns</p>\n",
       "</div>"
      ],
      "text/plain": [
       "   age       body_type               diet    drinks      drugs  \\\n",
       "0   22  a little extra  strictly anything  socially      never   \n",
       "1   35         average       mostly other     often  sometimes   \n",
       "2   38            thin           anything  socially        NaN   \n",
       "3   23            thin         vegetarian  socially        NaN   \n",
       "4   29        athletic                NaN  socially      never   \n",
       "\n",
       "                           education  \\\n",
       "0      working on college/university   \n",
       "1              working on space camp   \n",
       "2     graduated from masters program   \n",
       "3      working on college/university   \n",
       "4  graduated from college/university   \n",
       "\n",
       "                                              essay0  \\\n",
       "0  about me:<br />\\n<br />\\ni would love to think...   \n",
       "1  i am a chef: this is what that means.<br />\\n1...   \n",
       "2  i'm not ashamed of much, but writing public te...   \n",
       "3          i work in a library and go to school. . .   \n",
       "4  hey how's it going? currently vague on the pro...   \n",
       "\n",
       "                                              essay1  \\\n",
       "0  currently working as an international agent fo...   \n",
       "1  dedicating everyday to being an unbelievable b...   \n",
       "2  i make nerdy software for musicians, artists, ...   \n",
       "3          reading things written by old dead people   \n",
       "4                         work work work work + play   \n",
       "\n",
       "                                              essay2  \\\n",
       "0  making people laugh.<br />\\nranting about a go...   \n",
       "1  being silly. having ridiculous amonts of fun w...   \n",
       "2  improvising in different contexts. alternating...   \n",
       "3  playing synthesizers and organizing books acco...   \n",
       "4  creating imagery to look at:<br />\\nhttp://bag...   \n",
       "\n",
       "                                              essay3  ...  \\\n",
       "0  the way i look. i am a six foot half asian, ha...  ...   \n",
       "1                                                NaN  ...   \n",
       "2  my large jaw and large glasses are the physica...  ...   \n",
       "3                  socially awkward but i do my best  ...   \n",
       "4            i smile a lot and my inquisitive nature  ...   \n",
       "\n",
       "                        pets                                  religion sex  \\\n",
       "0  likes dogs and likes cats     agnosticism and very serious about it   m   \n",
       "1  likes dogs and likes cats  agnosticism but not too serious about it   m   \n",
       "2                   has cats                                       NaN   m   \n",
       "3                 likes cats                                       NaN   m   \n",
       "4  likes dogs and likes cats                                       NaN   m   \n",
       "\n",
       "                                 sign     smokes  \\\n",
       "0                              gemini  sometimes   \n",
       "1                              cancer         no   \n",
       "2  pisces but it doesn&rsquo;t matter         no   \n",
       "3                              pisces         no   \n",
       "4                            aquarius         no   \n",
       "\n",
       "                                              speaks     status  \\\n",
       "0                                            english     single   \n",
       "1  english (fluently), spanish (poorly), french (...     single   \n",
       "2                               english, french, c++  available   \n",
       "3                           english, german (poorly)     single   \n",
       "4                                            english     single   \n",
       "\n",
       "   improved_sign  encoded_drinks encoded_drug  \n",
       "0         gemini             2.0          0.0  \n",
       "1         cancer             3.0          1.0  \n",
       "2         pisces             2.0          0.0  \n",
       "3         pisces             2.0          0.0  \n",
       "4       aquarius             2.0          0.0  \n",
       "\n",
       "[5 rows x 34 columns]"
      ]
     },
     "execution_count": 239,
     "metadata": {},
     "output_type": "execute_result"
    }
   ],
   "source": [
    "df.head()"
   ]
  },
  {
   "cell_type": "markdown",
   "id": "dc41fcb4",
   "metadata": {},
   "source": [
    "Adding all the essays into one column, removing the NaNs to create a new column"
   ]
  },
  {
   "cell_type": "code",
   "execution_count": 240,
   "id": "f463781d",
   "metadata": {},
   "outputs": [],
   "source": [
    "essay_cols = [\"essay0\", \"essay1\", \"essay2\", \"essay3\", \"essay4\", \"essay5\", \"essay6\", \"essay7\", \"essay8\", \"essay9\"]\n",
    "\n",
    "essay_element = df[essay_cols].replace(np.nan, '', regex=True)\n",
    "                                    \n",
    "essay_element = essay_element[essay_cols].apply(lambda x: ' '.join(x), axis=1)\n",
    "df['essay_len'] = essay_element.apply(lambda x: len(x))"
   ]
  },
  {
   "cell_type": "code",
   "execution_count": 241,
   "id": "c2445743",
   "metadata": {},
   "outputs": [
    {
     "data": {
      "text/html": [
       "<div>\n",
       "<style scoped>\n",
       "    .dataframe tbody tr th:only-of-type {\n",
       "        vertical-align: middle;\n",
       "    }\n",
       "\n",
       "    .dataframe tbody tr th {\n",
       "        vertical-align: top;\n",
       "    }\n",
       "\n",
       "    .dataframe thead th {\n",
       "        text-align: right;\n",
       "    }\n",
       "</style>\n",
       "<table border=\"1\" class=\"dataframe\">\n",
       "  <thead>\n",
       "    <tr style=\"text-align: right;\">\n",
       "      <th></th>\n",
       "      <th>age</th>\n",
       "      <th>body_type</th>\n",
       "      <th>diet</th>\n",
       "      <th>drinks</th>\n",
       "      <th>drugs</th>\n",
       "      <th>education</th>\n",
       "      <th>essay0</th>\n",
       "      <th>essay1</th>\n",
       "      <th>essay2</th>\n",
       "      <th>essay3</th>\n",
       "      <th>...</th>\n",
       "      <th>religion</th>\n",
       "      <th>sex</th>\n",
       "      <th>sign</th>\n",
       "      <th>smokes</th>\n",
       "      <th>speaks</th>\n",
       "      <th>status</th>\n",
       "      <th>improved_sign</th>\n",
       "      <th>encoded_drinks</th>\n",
       "      <th>encoded_drug</th>\n",
       "      <th>essay_len</th>\n",
       "    </tr>\n",
       "  </thead>\n",
       "  <tbody>\n",
       "    <tr>\n",
       "      <th>0</th>\n",
       "      <td>22</td>\n",
       "      <td>a little extra</td>\n",
       "      <td>strictly anything</td>\n",
       "      <td>socially</td>\n",
       "      <td>never</td>\n",
       "      <td>working on college/university</td>\n",
       "      <td>about me:&lt;br /&gt;\\n&lt;br /&gt;\\ni would love to think...</td>\n",
       "      <td>currently working as an international agent fo...</td>\n",
       "      <td>making people laugh.&lt;br /&gt;\\nranting about a go...</td>\n",
       "      <td>the way i look. i am a six foot half asian, ha...</td>\n",
       "      <td>...</td>\n",
       "      <td>agnosticism and very serious about it</td>\n",
       "      <td>m</td>\n",
       "      <td>gemini</td>\n",
       "      <td>sometimes</td>\n",
       "      <td>english</td>\n",
       "      <td>single</td>\n",
       "      <td>gemini</td>\n",
       "      <td>2.0</td>\n",
       "      <td>0.0</td>\n",
       "      <td>2644</td>\n",
       "    </tr>\n",
       "    <tr>\n",
       "      <th>1</th>\n",
       "      <td>35</td>\n",
       "      <td>average</td>\n",
       "      <td>mostly other</td>\n",
       "      <td>often</td>\n",
       "      <td>sometimes</td>\n",
       "      <td>working on space camp</td>\n",
       "      <td>i am a chef: this is what that means.&lt;br /&gt;\\n1...</td>\n",
       "      <td>dedicating everyday to being an unbelievable b...</td>\n",
       "      <td>being silly. having ridiculous amonts of fun w...</td>\n",
       "      <td>NaN</td>\n",
       "      <td>...</td>\n",
       "      <td>agnosticism but not too serious about it</td>\n",
       "      <td>m</td>\n",
       "      <td>cancer</td>\n",
       "      <td>no</td>\n",
       "      <td>english (fluently), spanish (poorly), french (...</td>\n",
       "      <td>single</td>\n",
       "      <td>cancer</td>\n",
       "      <td>3.0</td>\n",
       "      <td>1.0</td>\n",
       "      <td>1453</td>\n",
       "    </tr>\n",
       "    <tr>\n",
       "      <th>2</th>\n",
       "      <td>38</td>\n",
       "      <td>thin</td>\n",
       "      <td>anything</td>\n",
       "      <td>socially</td>\n",
       "      <td>NaN</td>\n",
       "      <td>graduated from masters program</td>\n",
       "      <td>i'm not ashamed of much, but writing public te...</td>\n",
       "      <td>i make nerdy software for musicians, artists, ...</td>\n",
       "      <td>improvising in different contexts. alternating...</td>\n",
       "      <td>my large jaw and large glasses are the physica...</td>\n",
       "      <td>...</td>\n",
       "      <td>NaN</td>\n",
       "      <td>m</td>\n",
       "      <td>pisces but it doesn&amp;rsquo;t matter</td>\n",
       "      <td>no</td>\n",
       "      <td>english, french, c++</td>\n",
       "      <td>available</td>\n",
       "      <td>pisces</td>\n",
       "      <td>2.0</td>\n",
       "      <td>0.0</td>\n",
       "      <td>5517</td>\n",
       "    </tr>\n",
       "    <tr>\n",
       "      <th>3</th>\n",
       "      <td>23</td>\n",
       "      <td>thin</td>\n",
       "      <td>vegetarian</td>\n",
       "      <td>socially</td>\n",
       "      <td>NaN</td>\n",
       "      <td>working on college/university</td>\n",
       "      <td>i work in a library and go to school. . .</td>\n",
       "      <td>reading things written by old dead people</td>\n",
       "      <td>playing synthesizers and organizing books acco...</td>\n",
       "      <td>socially awkward but i do my best</td>\n",
       "      <td>...</td>\n",
       "      <td>NaN</td>\n",
       "      <td>m</td>\n",
       "      <td>pisces</td>\n",
       "      <td>no</td>\n",
       "      <td>english, german (poorly)</td>\n",
       "      <td>single</td>\n",
       "      <td>pisces</td>\n",
       "      <td>2.0</td>\n",
       "      <td>0.0</td>\n",
       "      <td>477</td>\n",
       "    </tr>\n",
       "    <tr>\n",
       "      <th>4</th>\n",
       "      <td>29</td>\n",
       "      <td>athletic</td>\n",
       "      <td>NaN</td>\n",
       "      <td>socially</td>\n",
       "      <td>never</td>\n",
       "      <td>graduated from college/university</td>\n",
       "      <td>hey how's it going? currently vague on the pro...</td>\n",
       "      <td>work work work work + play</td>\n",
       "      <td>creating imagery to look at:&lt;br /&gt;\\nhttp://bag...</td>\n",
       "      <td>i smile a lot and my inquisitive nature</td>\n",
       "      <td>...</td>\n",
       "      <td>NaN</td>\n",
       "      <td>m</td>\n",
       "      <td>aquarius</td>\n",
       "      <td>no</td>\n",
       "      <td>english</td>\n",
       "      <td>single</td>\n",
       "      <td>aquarius</td>\n",
       "      <td>2.0</td>\n",
       "      <td>0.0</td>\n",
       "      <td>725</td>\n",
       "    </tr>\n",
       "  </tbody>\n",
       "</table>\n",
       "<p>5 rows × 35 columns</p>\n",
       "</div>"
      ],
      "text/plain": [
       "   age       body_type               diet    drinks      drugs  \\\n",
       "0   22  a little extra  strictly anything  socially      never   \n",
       "1   35         average       mostly other     often  sometimes   \n",
       "2   38            thin           anything  socially        NaN   \n",
       "3   23            thin         vegetarian  socially        NaN   \n",
       "4   29        athletic                NaN  socially      never   \n",
       "\n",
       "                           education  \\\n",
       "0      working on college/university   \n",
       "1              working on space camp   \n",
       "2     graduated from masters program   \n",
       "3      working on college/university   \n",
       "4  graduated from college/university   \n",
       "\n",
       "                                              essay0  \\\n",
       "0  about me:<br />\\n<br />\\ni would love to think...   \n",
       "1  i am a chef: this is what that means.<br />\\n1...   \n",
       "2  i'm not ashamed of much, but writing public te...   \n",
       "3          i work in a library and go to school. . .   \n",
       "4  hey how's it going? currently vague on the pro...   \n",
       "\n",
       "                                              essay1  \\\n",
       "0  currently working as an international agent fo...   \n",
       "1  dedicating everyday to being an unbelievable b...   \n",
       "2  i make nerdy software for musicians, artists, ...   \n",
       "3          reading things written by old dead people   \n",
       "4                         work work work work + play   \n",
       "\n",
       "                                              essay2  \\\n",
       "0  making people laugh.<br />\\nranting about a go...   \n",
       "1  being silly. having ridiculous amonts of fun w...   \n",
       "2  improvising in different contexts. alternating...   \n",
       "3  playing synthesizers and organizing books acco...   \n",
       "4  creating imagery to look at:<br />\\nhttp://bag...   \n",
       "\n",
       "                                              essay3  ...  \\\n",
       "0  the way i look. i am a six foot half asian, ha...  ...   \n",
       "1                                                NaN  ...   \n",
       "2  my large jaw and large glasses are the physica...  ...   \n",
       "3                  socially awkward but i do my best  ...   \n",
       "4            i smile a lot and my inquisitive nature  ...   \n",
       "\n",
       "                                   religion sex  \\\n",
       "0     agnosticism and very serious about it   m   \n",
       "1  agnosticism but not too serious about it   m   \n",
       "2                                       NaN   m   \n",
       "3                                       NaN   m   \n",
       "4                                       NaN   m   \n",
       "\n",
       "                                 sign     smokes  \\\n",
       "0                              gemini  sometimes   \n",
       "1                              cancer         no   \n",
       "2  pisces but it doesn&rsquo;t matter         no   \n",
       "3                              pisces         no   \n",
       "4                            aquarius         no   \n",
       "\n",
       "                                              speaks     status improved_sign  \\\n",
       "0                                            english     single        gemini   \n",
       "1  english (fluently), spanish (poorly), french (...     single        cancer   \n",
       "2                               english, french, c++  available        pisces   \n",
       "3                           english, german (poorly)     single        pisces   \n",
       "4                                            english     single      aquarius   \n",
       "\n",
       "   encoded_drinks  encoded_drug essay_len  \n",
       "0             2.0           0.0      2644  \n",
       "1             3.0           1.0      1453  \n",
       "2             2.0           0.0      5517  \n",
       "3             2.0           0.0       477  \n",
       "4             2.0           0.0       725  \n",
       "\n",
       "[5 rows x 35 columns]"
      ]
     },
     "execution_count": 241,
     "metadata": {},
     "output_type": "execute_result"
    }
   ],
   "source": [
    "df.head()"
   ]
  },
  {
   "cell_type": "code",
   "execution_count": 242,
   "id": "a79ee774",
   "metadata": {},
   "outputs": [
    {
     "data": {
      "text/html": [
       "<div>\n",
       "<style scoped>\n",
       "    .dataframe tbody tr th:only-of-type {\n",
       "        vertical-align: middle;\n",
       "    }\n",
       "\n",
       "    .dataframe tbody tr th {\n",
       "        vertical-align: top;\n",
       "    }\n",
       "\n",
       "    .dataframe thead th {\n",
       "        text-align: right;\n",
       "    }\n",
       "</style>\n",
       "<table border=\"1\" class=\"dataframe\">\n",
       "  <thead>\n",
       "    <tr style=\"text-align: right;\">\n",
       "      <th></th>\n",
       "      <th>age</th>\n",
       "      <th>body_type</th>\n",
       "      <th>diet</th>\n",
       "      <th>drinks</th>\n",
       "      <th>drugs</th>\n",
       "      <th>education</th>\n",
       "      <th>essay0</th>\n",
       "      <th>essay1</th>\n",
       "      <th>essay2</th>\n",
       "      <th>essay3</th>\n",
       "      <th>...</th>\n",
       "      <th>religion</th>\n",
       "      <th>sex</th>\n",
       "      <th>sign</th>\n",
       "      <th>smokes</th>\n",
       "      <th>speaks</th>\n",
       "      <th>status</th>\n",
       "      <th>improved_sign</th>\n",
       "      <th>encoded_drinks</th>\n",
       "      <th>encoded_drug</th>\n",
       "      <th>essay_len</th>\n",
       "    </tr>\n",
       "  </thead>\n",
       "  <tbody>\n",
       "    <tr>\n",
       "      <th>39994</th>\n",
       "      <td>32</td>\n",
       "      <td>athletic</td>\n",
       "      <td>NaN</td>\n",
       "      <td>socially</td>\n",
       "      <td>sometimes</td>\n",
       "      <td>graduated from masters program</td>\n",
       "      <td>lots of sob stories on this site, but i'm pret...</td>\n",
       "      <td>i've worked extremely hard, particularly over ...</td>\n",
       "      <td>trivia (ridiculously good at remembering anyth...</td>\n",
       "      <td>my voice is high pitched and breathy - it actu...</td>\n",
       "      <td>...</td>\n",
       "      <td>NaN</td>\n",
       "      <td>m</td>\n",
       "      <td>NaN</td>\n",
       "      <td>no</td>\n",
       "      <td>english (fluently)</td>\n",
       "      <td>single</td>\n",
       "      <td>NaN</td>\n",
       "      <td>2.0</td>\n",
       "      <td>1.0</td>\n",
       "      <td>4628</td>\n",
       "    </tr>\n",
       "    <tr>\n",
       "      <th>47788</th>\n",
       "      <td>27</td>\n",
       "      <td>athletic</td>\n",
       "      <td>anything</td>\n",
       "      <td>socially</td>\n",
       "      <td>NaN</td>\n",
       "      <td>graduated from college/university</td>\n",
       "      <td>i am a fun loving outgoing woman, with a curio...</td>\n",
       "      <td>i am currently working as an outside sales rep...</td>\n",
       "      <td>i am a great listener, and most of the time ca...</td>\n",
       "      <td>my eyes.</td>\n",
       "      <td>...</td>\n",
       "      <td>buddhism</td>\n",
       "      <td>f</td>\n",
       "      <td>cancer</td>\n",
       "      <td>NaN</td>\n",
       "      <td>english</td>\n",
       "      <td>single</td>\n",
       "      <td>cancer</td>\n",
       "      <td>2.0</td>\n",
       "      <td>0.0</td>\n",
       "      <td>1685</td>\n",
       "    </tr>\n",
       "    <tr>\n",
       "      <th>33708</th>\n",
       "      <td>43</td>\n",
       "      <td>overweight</td>\n",
       "      <td>mostly anything</td>\n",
       "      <td>socially</td>\n",
       "      <td>never</td>\n",
       "      <td>graduated from two-year college</td>\n",
       "      <td>NaN</td>\n",
       "      <td>NaN</td>\n",
       "      <td>NaN</td>\n",
       "      <td>NaN</td>\n",
       "      <td>...</td>\n",
       "      <td>judaism and somewhat serious about it</td>\n",
       "      <td>m</td>\n",
       "      <td>scorpio but it doesn&amp;rsquo;t matter</td>\n",
       "      <td>no</td>\n",
       "      <td>english</td>\n",
       "      <td>single</td>\n",
       "      <td>scorpio</td>\n",
       "      <td>2.0</td>\n",
       "      <td>0.0</td>\n",
       "      <td>9</td>\n",
       "    </tr>\n",
       "    <tr>\n",
       "      <th>8148</th>\n",
       "      <td>24</td>\n",
       "      <td>average</td>\n",
       "      <td>anything</td>\n",
       "      <td>socially</td>\n",
       "      <td>sometimes</td>\n",
       "      <td>working on ph.d program</td>\n",
       "      <td>i'm generally easy going, fairly adventurous, ...</td>\n",
       "      <td>right now, i am a grad student studying math, ...</td>\n",
       "      <td>listening to music.&lt;br /&gt;\\nwearing costumes......</td>\n",
       "      <td>my accent... i have an accent which is a mix b...</td>\n",
       "      <td>...</td>\n",
       "      <td>agnosticism</td>\n",
       "      <td>f</td>\n",
       "      <td>sagittarius</td>\n",
       "      <td>sometimes</td>\n",
       "      <td>english (fluently), german (okay), spanish (po...</td>\n",
       "      <td>single</td>\n",
       "      <td>sagittarius</td>\n",
       "      <td>2.0</td>\n",
       "      <td>1.0</td>\n",
       "      <td>4305</td>\n",
       "    </tr>\n",
       "    <tr>\n",
       "      <th>39076</th>\n",
       "      <td>34</td>\n",
       "      <td>fit</td>\n",
       "      <td>anything</td>\n",
       "      <td>not at all</td>\n",
       "      <td>never</td>\n",
       "      <td>working on college/university</td>\n",
       "      <td>i don't want to fill out it as most of people....</td>\n",
       "      <td>i change it to the rich and comfortable future</td>\n",
       "      <td>business</td>\n",
       "      <td>i saw him in top forbes.</td>\n",
       "      <td>...</td>\n",
       "      <td>atheism</td>\n",
       "      <td>m</td>\n",
       "      <td>aquarius but it doesn&amp;rsquo;t matter</td>\n",
       "      <td>no</td>\n",
       "      <td>english, russian</td>\n",
       "      <td>single</td>\n",
       "      <td>aquarius</td>\n",
       "      <td>0.0</td>\n",
       "      <td>0.0</td>\n",
       "      <td>374</td>\n",
       "    </tr>\n",
       "  </tbody>\n",
       "</table>\n",
       "<p>5 rows × 35 columns</p>\n",
       "</div>"
      ],
      "text/plain": [
       "       age   body_type             diet      drinks      drugs  \\\n",
       "39994   32    athletic              NaN    socially  sometimes   \n",
       "47788   27    athletic         anything    socially        NaN   \n",
       "33708   43  overweight  mostly anything    socially      never   \n",
       "8148    24     average         anything    socially  sometimes   \n",
       "39076   34         fit         anything  not at all      never   \n",
       "\n",
       "                               education  \\\n",
       "39994     graduated from masters program   \n",
       "47788  graduated from college/university   \n",
       "33708    graduated from two-year college   \n",
       "8148             working on ph.d program   \n",
       "39076      working on college/university   \n",
       "\n",
       "                                                  essay0  \\\n",
       "39994  lots of sob stories on this site, but i'm pret...   \n",
       "47788  i am a fun loving outgoing woman, with a curio...   \n",
       "33708                                                NaN   \n",
       "8148   i'm generally easy going, fairly adventurous, ...   \n",
       "39076  i don't want to fill out it as most of people....   \n",
       "\n",
       "                                                  essay1  \\\n",
       "39994  i've worked extremely hard, particularly over ...   \n",
       "47788  i am currently working as an outside sales rep...   \n",
       "33708                                                NaN   \n",
       "8148   right now, i am a grad student studying math, ...   \n",
       "39076     i change it to the rich and comfortable future   \n",
       "\n",
       "                                                  essay2  \\\n",
       "39994  trivia (ridiculously good at remembering anyth...   \n",
       "47788  i am a great listener, and most of the time ca...   \n",
       "33708                                                NaN   \n",
       "8148   listening to music.<br />\\nwearing costumes......   \n",
       "39076                                           business   \n",
       "\n",
       "                                                  essay3  ...  \\\n",
       "39994  my voice is high pitched and breathy - it actu...  ...   \n",
       "47788                                           my eyes.  ...   \n",
       "33708                                                NaN  ...   \n",
       "8148   my accent... i have an accent which is a mix b...  ...   \n",
       "39076                           i saw him in top forbes.  ...   \n",
       "\n",
       "                                    religion sex  \\\n",
       "39994                                    NaN   m   \n",
       "47788                               buddhism   f   \n",
       "33708  judaism and somewhat serious about it   m   \n",
       "8148                             agnosticism   f   \n",
       "39076                                atheism   m   \n",
       "\n",
       "                                       sign     smokes  \\\n",
       "39994                                   NaN         no   \n",
       "47788                                cancer        NaN   \n",
       "33708   scorpio but it doesn&rsquo;t matter         no   \n",
       "8148                            sagittarius  sometimes   \n",
       "39076  aquarius but it doesn&rsquo;t matter         no   \n",
       "\n",
       "                                                  speaks  status  \\\n",
       "39994                                 english (fluently)  single   \n",
       "47788                                            english  single   \n",
       "33708                                            english  single   \n",
       "8148   english (fluently), german (okay), spanish (po...  single   \n",
       "39076                                   english, russian  single   \n",
       "\n",
       "      improved_sign  encoded_drinks  encoded_drug essay_len  \n",
       "39994           NaN             2.0           1.0      4628  \n",
       "47788        cancer             2.0           0.0      1685  \n",
       "33708       scorpio             2.0           0.0         9  \n",
       "8148    sagittarius             2.0           1.0      4305  \n",
       "39076      aquarius             0.0           0.0       374  \n",
       "\n",
       "[5 rows x 35 columns]"
      ]
     },
     "execution_count": 242,
     "metadata": {},
     "output_type": "execute_result"
    }
   ],
   "source": [
    "df.sample(n=5)"
   ]
  },
  {
   "cell_type": "code",
   "execution_count": 243,
   "id": "ef74801e",
   "metadata": {},
   "outputs": [
    {
     "data": {
      "text/plain": [
       "array(['sometimes', 'no', nan, 'when drinking', 'yes', 'trying to quit'],\n",
       "      dtype=object)"
      ]
     },
     "execution_count": 243,
     "metadata": {},
     "output_type": "execute_result"
    }
   ],
   "source": [
    "df.smokes.unique()"
   ]
  },
  {
   "cell_type": "code",
   "execution_count": 244,
   "id": "ace67e98",
   "metadata": {},
   "outputs": [],
   "source": [
    "df['smokes_encode'] = df['smokes'].replace(np.nan, \"no\")"
   ]
  },
  {
   "cell_type": "code",
   "execution_count": 245,
   "id": "ef43fd9f",
   "metadata": {},
   "outputs": [
    {
     "data": {
      "text/plain": [
       "array(['sometimes', 'no', 'when drinking', 'yes', 'trying to quit'],\n",
       "      dtype=object)"
      ]
     },
     "execution_count": 245,
     "metadata": {},
     "output_type": "execute_result"
    }
   ],
   "source": [
    "df.smokes_encode.unique()"
   ]
  },
  {
   "cell_type": "code",
   "execution_count": 246,
   "id": "ef3776aa",
   "metadata": {},
   "outputs": [
    {
     "data": {
      "text/html": [
       "<div>\n",
       "<style scoped>\n",
       "    .dataframe tbody tr th:only-of-type {\n",
       "        vertical-align: middle;\n",
       "    }\n",
       "\n",
       "    .dataframe tbody tr th {\n",
       "        vertical-align: top;\n",
       "    }\n",
       "\n",
       "    .dataframe thead th {\n",
       "        text-align: right;\n",
       "    }\n",
       "</style>\n",
       "<table border=\"1\" class=\"dataframe\">\n",
       "  <thead>\n",
       "    <tr style=\"text-align: right;\">\n",
       "      <th></th>\n",
       "      <th>age</th>\n",
       "      <th>body_type</th>\n",
       "      <th>diet</th>\n",
       "      <th>drinks</th>\n",
       "      <th>drugs</th>\n",
       "      <th>education</th>\n",
       "      <th>essay0</th>\n",
       "      <th>essay1</th>\n",
       "      <th>essay2</th>\n",
       "      <th>essay3</th>\n",
       "      <th>...</th>\n",
       "      <th>sex</th>\n",
       "      <th>sign</th>\n",
       "      <th>smokes</th>\n",
       "      <th>speaks</th>\n",
       "      <th>status</th>\n",
       "      <th>improved_sign</th>\n",
       "      <th>encoded_drinks</th>\n",
       "      <th>encoded_drug</th>\n",
       "      <th>essay_len</th>\n",
       "      <th>smokes_encode</th>\n",
       "    </tr>\n",
       "  </thead>\n",
       "  <tbody>\n",
       "    <tr>\n",
       "      <th>0</th>\n",
       "      <td>22</td>\n",
       "      <td>a little extra</td>\n",
       "      <td>strictly anything</td>\n",
       "      <td>socially</td>\n",
       "      <td>never</td>\n",
       "      <td>working on college/university</td>\n",
       "      <td>about me:&lt;br /&gt;\\n&lt;br /&gt;\\ni would love to think...</td>\n",
       "      <td>currently working as an international agent fo...</td>\n",
       "      <td>making people laugh.&lt;br /&gt;\\nranting about a go...</td>\n",
       "      <td>the way i look. i am a six foot half asian, ha...</td>\n",
       "      <td>...</td>\n",
       "      <td>m</td>\n",
       "      <td>gemini</td>\n",
       "      <td>sometimes</td>\n",
       "      <td>english</td>\n",
       "      <td>single</td>\n",
       "      <td>gemini</td>\n",
       "      <td>2.0</td>\n",
       "      <td>0.0</td>\n",
       "      <td>2644</td>\n",
       "      <td>sometimes</td>\n",
       "    </tr>\n",
       "    <tr>\n",
       "      <th>1</th>\n",
       "      <td>35</td>\n",
       "      <td>average</td>\n",
       "      <td>mostly other</td>\n",
       "      <td>often</td>\n",
       "      <td>sometimes</td>\n",
       "      <td>working on space camp</td>\n",
       "      <td>i am a chef: this is what that means.&lt;br /&gt;\\n1...</td>\n",
       "      <td>dedicating everyday to being an unbelievable b...</td>\n",
       "      <td>being silly. having ridiculous amonts of fun w...</td>\n",
       "      <td>NaN</td>\n",
       "      <td>...</td>\n",
       "      <td>m</td>\n",
       "      <td>cancer</td>\n",
       "      <td>no</td>\n",
       "      <td>english (fluently), spanish (poorly), french (...</td>\n",
       "      <td>single</td>\n",
       "      <td>cancer</td>\n",
       "      <td>3.0</td>\n",
       "      <td>1.0</td>\n",
       "      <td>1453</td>\n",
       "      <td>no</td>\n",
       "    </tr>\n",
       "    <tr>\n",
       "      <th>2</th>\n",
       "      <td>38</td>\n",
       "      <td>thin</td>\n",
       "      <td>anything</td>\n",
       "      <td>socially</td>\n",
       "      <td>NaN</td>\n",
       "      <td>graduated from masters program</td>\n",
       "      <td>i'm not ashamed of much, but writing public te...</td>\n",
       "      <td>i make nerdy software for musicians, artists, ...</td>\n",
       "      <td>improvising in different contexts. alternating...</td>\n",
       "      <td>my large jaw and large glasses are the physica...</td>\n",
       "      <td>...</td>\n",
       "      <td>m</td>\n",
       "      <td>pisces but it doesn&amp;rsquo;t matter</td>\n",
       "      <td>no</td>\n",
       "      <td>english, french, c++</td>\n",
       "      <td>available</td>\n",
       "      <td>pisces</td>\n",
       "      <td>2.0</td>\n",
       "      <td>0.0</td>\n",
       "      <td>5517</td>\n",
       "      <td>no</td>\n",
       "    </tr>\n",
       "    <tr>\n",
       "      <th>3</th>\n",
       "      <td>23</td>\n",
       "      <td>thin</td>\n",
       "      <td>vegetarian</td>\n",
       "      <td>socially</td>\n",
       "      <td>NaN</td>\n",
       "      <td>working on college/university</td>\n",
       "      <td>i work in a library and go to school. . .</td>\n",
       "      <td>reading things written by old dead people</td>\n",
       "      <td>playing synthesizers and organizing books acco...</td>\n",
       "      <td>socially awkward but i do my best</td>\n",
       "      <td>...</td>\n",
       "      <td>m</td>\n",
       "      <td>pisces</td>\n",
       "      <td>no</td>\n",
       "      <td>english, german (poorly)</td>\n",
       "      <td>single</td>\n",
       "      <td>pisces</td>\n",
       "      <td>2.0</td>\n",
       "      <td>0.0</td>\n",
       "      <td>477</td>\n",
       "      <td>no</td>\n",
       "    </tr>\n",
       "    <tr>\n",
       "      <th>4</th>\n",
       "      <td>29</td>\n",
       "      <td>athletic</td>\n",
       "      <td>NaN</td>\n",
       "      <td>socially</td>\n",
       "      <td>never</td>\n",
       "      <td>graduated from college/university</td>\n",
       "      <td>hey how's it going? currently vague on the pro...</td>\n",
       "      <td>work work work work + play</td>\n",
       "      <td>creating imagery to look at:&lt;br /&gt;\\nhttp://bag...</td>\n",
       "      <td>i smile a lot and my inquisitive nature</td>\n",
       "      <td>...</td>\n",
       "      <td>m</td>\n",
       "      <td>aquarius</td>\n",
       "      <td>no</td>\n",
       "      <td>english</td>\n",
       "      <td>single</td>\n",
       "      <td>aquarius</td>\n",
       "      <td>2.0</td>\n",
       "      <td>0.0</td>\n",
       "      <td>725</td>\n",
       "      <td>no</td>\n",
       "    </tr>\n",
       "  </tbody>\n",
       "</table>\n",
       "<p>5 rows × 36 columns</p>\n",
       "</div>"
      ],
      "text/plain": [
       "   age       body_type               diet    drinks      drugs  \\\n",
       "0   22  a little extra  strictly anything  socially      never   \n",
       "1   35         average       mostly other     often  sometimes   \n",
       "2   38            thin           anything  socially        NaN   \n",
       "3   23            thin         vegetarian  socially        NaN   \n",
       "4   29        athletic                NaN  socially      never   \n",
       "\n",
       "                           education  \\\n",
       "0      working on college/university   \n",
       "1              working on space camp   \n",
       "2     graduated from masters program   \n",
       "3      working on college/university   \n",
       "4  graduated from college/university   \n",
       "\n",
       "                                              essay0  \\\n",
       "0  about me:<br />\\n<br />\\ni would love to think...   \n",
       "1  i am a chef: this is what that means.<br />\\n1...   \n",
       "2  i'm not ashamed of much, but writing public te...   \n",
       "3          i work in a library and go to school. . .   \n",
       "4  hey how's it going? currently vague on the pro...   \n",
       "\n",
       "                                              essay1  \\\n",
       "0  currently working as an international agent fo...   \n",
       "1  dedicating everyday to being an unbelievable b...   \n",
       "2  i make nerdy software for musicians, artists, ...   \n",
       "3          reading things written by old dead people   \n",
       "4                         work work work work + play   \n",
       "\n",
       "                                              essay2  \\\n",
       "0  making people laugh.<br />\\nranting about a go...   \n",
       "1  being silly. having ridiculous amonts of fun w...   \n",
       "2  improvising in different contexts. alternating...   \n",
       "3  playing synthesizers and organizing books acco...   \n",
       "4  creating imagery to look at:<br />\\nhttp://bag...   \n",
       "\n",
       "                                              essay3  ... sex  \\\n",
       "0  the way i look. i am a six foot half asian, ha...  ...   m   \n",
       "1                                                NaN  ...   m   \n",
       "2  my large jaw and large glasses are the physica...  ...   m   \n",
       "3                  socially awkward but i do my best  ...   m   \n",
       "4            i smile a lot and my inquisitive nature  ...   m   \n",
       "\n",
       "                                 sign     smokes  \\\n",
       "0                              gemini  sometimes   \n",
       "1                              cancer         no   \n",
       "2  pisces but it doesn&rsquo;t matter         no   \n",
       "3                              pisces         no   \n",
       "4                            aquarius         no   \n",
       "\n",
       "                                              speaks     status improved_sign  \\\n",
       "0                                            english     single        gemini   \n",
       "1  english (fluently), spanish (poorly), french (...     single        cancer   \n",
       "2                               english, french, c++  available        pisces   \n",
       "3                           english, german (poorly)     single        pisces   \n",
       "4                                            english     single      aquarius   \n",
       "\n",
       "  encoded_drinks  encoded_drug  essay_len smokes_encode  \n",
       "0            2.0           0.0       2644     sometimes  \n",
       "1            3.0           1.0       1453            no  \n",
       "2            2.0           0.0       5517            no  \n",
       "3            2.0           0.0        477            no  \n",
       "4            2.0           0.0        725            no  \n",
       "\n",
       "[5 rows x 36 columns]"
      ]
     },
     "execution_count": 246,
     "metadata": {},
     "output_type": "execute_result"
    }
   ],
   "source": [
    "df.head()"
   ]
  },
  {
   "cell_type": "code",
   "execution_count": 247,
   "id": "d91e084b",
   "metadata": {},
   "outputs": [],
   "source": [
    "drop_column = ['age', 'ethnicity', 'income', 'job', 'last_online', 'offspring', 'body_type', 'education', \"location\", \"sign\", \"religion\", \"pets\", \"smokes\", \"speaks\", \"height\", \"drugs\", \"drinks\", \"diet\", \"essay0\", \"essay1\", \"essay2\", \"essay3\", \"essay4\", \"essay5\", \"essay6\", \"essay7\", \"essay8\", \"essay9\"]"
   ]
  },
  {
   "cell_type": "code",
   "execution_count": 248,
   "id": "621547d5",
   "metadata": {},
   "outputs": [],
   "source": [
    "data = df.drop(drop_column, axis=1)"
   ]
  },
  {
   "cell_type": "code",
   "execution_count": 249,
   "id": "a0891817",
   "metadata": {},
   "outputs": [
    {
     "data": {
      "text/html": [
       "<div>\n",
       "<style scoped>\n",
       "    .dataframe tbody tr th:only-of-type {\n",
       "        vertical-align: middle;\n",
       "    }\n",
       "\n",
       "    .dataframe tbody tr th {\n",
       "        vertical-align: top;\n",
       "    }\n",
       "\n",
       "    .dataframe thead th {\n",
       "        text-align: right;\n",
       "    }\n",
       "</style>\n",
       "<table border=\"1\" class=\"dataframe\">\n",
       "  <thead>\n",
       "    <tr style=\"text-align: right;\">\n",
       "      <th></th>\n",
       "      <th>orientation</th>\n",
       "      <th>sex</th>\n",
       "      <th>status</th>\n",
       "      <th>improved_sign</th>\n",
       "      <th>encoded_drinks</th>\n",
       "      <th>encoded_drug</th>\n",
       "      <th>essay_len</th>\n",
       "      <th>smokes_encode</th>\n",
       "    </tr>\n",
       "  </thead>\n",
       "  <tbody>\n",
       "    <tr>\n",
       "      <th>0</th>\n",
       "      <td>straight</td>\n",
       "      <td>m</td>\n",
       "      <td>single</td>\n",
       "      <td>gemini</td>\n",
       "      <td>2.0</td>\n",
       "      <td>0.0</td>\n",
       "      <td>2644</td>\n",
       "      <td>sometimes</td>\n",
       "    </tr>\n",
       "    <tr>\n",
       "      <th>1</th>\n",
       "      <td>straight</td>\n",
       "      <td>m</td>\n",
       "      <td>single</td>\n",
       "      <td>cancer</td>\n",
       "      <td>3.0</td>\n",
       "      <td>1.0</td>\n",
       "      <td>1453</td>\n",
       "      <td>no</td>\n",
       "    </tr>\n",
       "    <tr>\n",
       "      <th>2</th>\n",
       "      <td>straight</td>\n",
       "      <td>m</td>\n",
       "      <td>available</td>\n",
       "      <td>pisces</td>\n",
       "      <td>2.0</td>\n",
       "      <td>0.0</td>\n",
       "      <td>5517</td>\n",
       "      <td>no</td>\n",
       "    </tr>\n",
       "    <tr>\n",
       "      <th>3</th>\n",
       "      <td>straight</td>\n",
       "      <td>m</td>\n",
       "      <td>single</td>\n",
       "      <td>pisces</td>\n",
       "      <td>2.0</td>\n",
       "      <td>0.0</td>\n",
       "      <td>477</td>\n",
       "      <td>no</td>\n",
       "    </tr>\n",
       "    <tr>\n",
       "      <th>4</th>\n",
       "      <td>straight</td>\n",
       "      <td>m</td>\n",
       "      <td>single</td>\n",
       "      <td>aquarius</td>\n",
       "      <td>2.0</td>\n",
       "      <td>0.0</td>\n",
       "      <td>725</td>\n",
       "      <td>no</td>\n",
       "    </tr>\n",
       "  </tbody>\n",
       "</table>\n",
       "</div>"
      ],
      "text/plain": [
       "  orientation sex     status improved_sign  encoded_drinks  encoded_drug  \\\n",
       "0    straight   m     single        gemini             2.0           0.0   \n",
       "1    straight   m     single        cancer             3.0           1.0   \n",
       "2    straight   m  available        pisces             2.0           0.0   \n",
       "3    straight   m     single        pisces             2.0           0.0   \n",
       "4    straight   m     single      aquarius             2.0           0.0   \n",
       "\n",
       "   essay_len smokes_encode  \n",
       "0       2644     sometimes  \n",
       "1       1453            no  \n",
       "2       5517            no  \n",
       "3        477            no  \n",
       "4        725            no  "
      ]
     },
     "execution_count": 249,
     "metadata": {},
     "output_type": "execute_result"
    }
   ],
   "source": [
    "data.head()"
   ]
  },
  {
   "cell_type": "markdown",
   "id": "33a5c93a",
   "metadata": {},
   "source": [
    "Convert Categorical variables to dummy variables"
   ]
  },
  {
   "cell_type": "code",
   "execution_count": null,
   "id": "3797939c",
   "metadata": {},
   "outputs": [],
   "source": []
  },
  {
   "cell_type": "code",
   "execution_count": 187,
   "id": "8451c354",
   "metadata": {},
   "outputs": [],
   "source": [
    "columns = ['orientation','sex','smokes_encode', 'status']\n",
    "for col in data[columns]:\n",
    "    data = pd.get_dummies(data, columns=[col], prefix = [col])"
   ]
  },
  {
   "cell_type": "code",
   "execution_count": 188,
   "id": "33973061",
   "metadata": {},
   "outputs": [
    {
     "data": {
      "text/html": [
       "<div>\n",
       "<style scoped>\n",
       "    .dataframe tbody tr th:only-of-type {\n",
       "        vertical-align: middle;\n",
       "    }\n",
       "\n",
       "    .dataframe tbody tr th {\n",
       "        vertical-align: top;\n",
       "    }\n",
       "\n",
       "    .dataframe thead th {\n",
       "        text-align: right;\n",
       "    }\n",
       "</style>\n",
       "<table border=\"1\" class=\"dataframe\">\n",
       "  <thead>\n",
       "    <tr style=\"text-align: right;\">\n",
       "      <th></th>\n",
       "      <th>improved_sign</th>\n",
       "      <th>encoded_drinks</th>\n",
       "      <th>encoded_drug</th>\n",
       "      <th>essay_len</th>\n",
       "      <th>orientation_bisexual</th>\n",
       "      <th>orientation_gay</th>\n",
       "      <th>orientation_straight</th>\n",
       "      <th>sex_f</th>\n",
       "      <th>sex_m</th>\n",
       "      <th>smokes_encode_no</th>\n",
       "      <th>smokes_encode_sometimes</th>\n",
       "      <th>smokes_encode_trying to quit</th>\n",
       "      <th>smokes_encode_when drinking</th>\n",
       "      <th>smokes_encode_yes</th>\n",
       "      <th>status_available</th>\n",
       "      <th>status_married</th>\n",
       "      <th>status_seeing someone</th>\n",
       "      <th>status_single</th>\n",
       "      <th>status_unknown</th>\n",
       "    </tr>\n",
       "  </thead>\n",
       "  <tbody>\n",
       "    <tr>\n",
       "      <th>0</th>\n",
       "      <td>gemini</td>\n",
       "      <td>2.0</td>\n",
       "      <td>0.0</td>\n",
       "      <td>2644</td>\n",
       "      <td>0</td>\n",
       "      <td>0</td>\n",
       "      <td>1</td>\n",
       "      <td>0</td>\n",
       "      <td>1</td>\n",
       "      <td>0</td>\n",
       "      <td>1</td>\n",
       "      <td>0</td>\n",
       "      <td>0</td>\n",
       "      <td>0</td>\n",
       "      <td>0</td>\n",
       "      <td>0</td>\n",
       "      <td>0</td>\n",
       "      <td>1</td>\n",
       "      <td>0</td>\n",
       "    </tr>\n",
       "    <tr>\n",
       "      <th>1</th>\n",
       "      <td>cancer</td>\n",
       "      <td>3.0</td>\n",
       "      <td>1.0</td>\n",
       "      <td>1453</td>\n",
       "      <td>0</td>\n",
       "      <td>0</td>\n",
       "      <td>1</td>\n",
       "      <td>0</td>\n",
       "      <td>1</td>\n",
       "      <td>1</td>\n",
       "      <td>0</td>\n",
       "      <td>0</td>\n",
       "      <td>0</td>\n",
       "      <td>0</td>\n",
       "      <td>0</td>\n",
       "      <td>0</td>\n",
       "      <td>0</td>\n",
       "      <td>1</td>\n",
       "      <td>0</td>\n",
       "    </tr>\n",
       "    <tr>\n",
       "      <th>2</th>\n",
       "      <td>pisces</td>\n",
       "      <td>2.0</td>\n",
       "      <td>0.0</td>\n",
       "      <td>5517</td>\n",
       "      <td>0</td>\n",
       "      <td>0</td>\n",
       "      <td>1</td>\n",
       "      <td>0</td>\n",
       "      <td>1</td>\n",
       "      <td>1</td>\n",
       "      <td>0</td>\n",
       "      <td>0</td>\n",
       "      <td>0</td>\n",
       "      <td>0</td>\n",
       "      <td>1</td>\n",
       "      <td>0</td>\n",
       "      <td>0</td>\n",
       "      <td>0</td>\n",
       "      <td>0</td>\n",
       "    </tr>\n",
       "    <tr>\n",
       "      <th>3</th>\n",
       "      <td>pisces</td>\n",
       "      <td>2.0</td>\n",
       "      <td>0.0</td>\n",
       "      <td>477</td>\n",
       "      <td>0</td>\n",
       "      <td>0</td>\n",
       "      <td>1</td>\n",
       "      <td>0</td>\n",
       "      <td>1</td>\n",
       "      <td>1</td>\n",
       "      <td>0</td>\n",
       "      <td>0</td>\n",
       "      <td>0</td>\n",
       "      <td>0</td>\n",
       "      <td>0</td>\n",
       "      <td>0</td>\n",
       "      <td>0</td>\n",
       "      <td>1</td>\n",
       "      <td>0</td>\n",
       "    </tr>\n",
       "    <tr>\n",
       "      <th>4</th>\n",
       "      <td>aquarius</td>\n",
       "      <td>2.0</td>\n",
       "      <td>0.0</td>\n",
       "      <td>725</td>\n",
       "      <td>0</td>\n",
       "      <td>0</td>\n",
       "      <td>1</td>\n",
       "      <td>0</td>\n",
       "      <td>1</td>\n",
       "      <td>1</td>\n",
       "      <td>0</td>\n",
       "      <td>0</td>\n",
       "      <td>0</td>\n",
       "      <td>0</td>\n",
       "      <td>0</td>\n",
       "      <td>0</td>\n",
       "      <td>0</td>\n",
       "      <td>1</td>\n",
       "      <td>0</td>\n",
       "    </tr>\n",
       "  </tbody>\n",
       "</table>\n",
       "</div>"
      ],
      "text/plain": [
       "  improved_sign  encoded_drinks  encoded_drug  essay_len  \\\n",
       "0        gemini             2.0           0.0       2644   \n",
       "1        cancer             3.0           1.0       1453   \n",
       "2        pisces             2.0           0.0       5517   \n",
       "3        pisces             2.0           0.0        477   \n",
       "4      aquarius             2.0           0.0        725   \n",
       "\n",
       "   orientation_bisexual  orientation_gay  orientation_straight  sex_f  sex_m  \\\n",
       "0                     0                0                     1      0      1   \n",
       "1                     0                0                     1      0      1   \n",
       "2                     0                0                     1      0      1   \n",
       "3                     0                0                     1      0      1   \n",
       "4                     0                0                     1      0      1   \n",
       "\n",
       "   smokes_encode_no  smokes_encode_sometimes  smokes_encode_trying to quit  \\\n",
       "0                 0                        1                             0   \n",
       "1                 1                        0                             0   \n",
       "2                 1                        0                             0   \n",
       "3                 1                        0                             0   \n",
       "4                 1                        0                             0   \n",
       "\n",
       "   smokes_encode_when drinking  smokes_encode_yes  status_available  \\\n",
       "0                            0                  0                 0   \n",
       "1                            0                  0                 0   \n",
       "2                            0                  0                 1   \n",
       "3                            0                  0                 0   \n",
       "4                            0                  0                 0   \n",
       "\n",
       "   status_married  status_seeing someone  status_single  status_unknown  \n",
       "0               0                      0              1               0  \n",
       "1               0                      0              1               0  \n",
       "2               0                      0              0               0  \n",
       "3               0                      0              1               0  \n",
       "4               0                      0              1               0  "
      ]
     },
     "execution_count": 188,
     "metadata": {},
     "output_type": "execute_result"
    }
   ],
   "source": [
    "data.head()"
   ]
  },
  {
   "cell_type": "markdown",
   "id": "1e694acb",
   "metadata": {},
   "source": [
    "Normalize Data"
   ]
  },
  {
   "cell_type": "code",
   "execution_count": 190,
   "id": "81d79152",
   "metadata": {},
   "outputs": [],
   "source": [
    "labels = data['improved_sign']"
   ]
  },
  {
   "cell_type": "code",
   "execution_count": 191,
   "id": "3f2d6bf9",
   "metadata": {},
   "outputs": [],
   "source": [
    "data = data.drop(columns=['improved_sign'])"
   ]
  },
  {
   "cell_type": "code",
   "execution_count": 192,
   "id": "0b979714",
   "metadata": {},
   "outputs": [
    {
     "data": {
      "text/html": [
       "<div>\n",
       "<style scoped>\n",
       "    .dataframe tbody tr th:only-of-type {\n",
       "        vertical-align: middle;\n",
       "    }\n",
       "\n",
       "    .dataframe tbody tr th {\n",
       "        vertical-align: top;\n",
       "    }\n",
       "\n",
       "    .dataframe thead th {\n",
       "        text-align: right;\n",
       "    }\n",
       "</style>\n",
       "<table border=\"1\" class=\"dataframe\">\n",
       "  <thead>\n",
       "    <tr style=\"text-align: right;\">\n",
       "      <th></th>\n",
       "      <th>encoded_drinks</th>\n",
       "      <th>encoded_drug</th>\n",
       "      <th>essay_len</th>\n",
       "      <th>orientation_bisexual</th>\n",
       "      <th>orientation_gay</th>\n",
       "      <th>orientation_straight</th>\n",
       "      <th>sex_f</th>\n",
       "      <th>sex_m</th>\n",
       "      <th>smokes_encode_no</th>\n",
       "      <th>smokes_encode_sometimes</th>\n",
       "      <th>smokes_encode_trying to quit</th>\n",
       "      <th>smokes_encode_when drinking</th>\n",
       "      <th>smokes_encode_yes</th>\n",
       "      <th>status_available</th>\n",
       "      <th>status_married</th>\n",
       "      <th>status_seeing someone</th>\n",
       "      <th>status_single</th>\n",
       "      <th>status_unknown</th>\n",
       "    </tr>\n",
       "  </thead>\n",
       "  <tbody>\n",
       "    <tr>\n",
       "      <th>0</th>\n",
       "      <td>2.0</td>\n",
       "      <td>0.0</td>\n",
       "      <td>2644</td>\n",
       "      <td>0</td>\n",
       "      <td>0</td>\n",
       "      <td>1</td>\n",
       "      <td>0</td>\n",
       "      <td>1</td>\n",
       "      <td>0</td>\n",
       "      <td>1</td>\n",
       "      <td>0</td>\n",
       "      <td>0</td>\n",
       "      <td>0</td>\n",
       "      <td>0</td>\n",
       "      <td>0</td>\n",
       "      <td>0</td>\n",
       "      <td>1</td>\n",
       "      <td>0</td>\n",
       "    </tr>\n",
       "    <tr>\n",
       "      <th>1</th>\n",
       "      <td>3.0</td>\n",
       "      <td>1.0</td>\n",
       "      <td>1453</td>\n",
       "      <td>0</td>\n",
       "      <td>0</td>\n",
       "      <td>1</td>\n",
       "      <td>0</td>\n",
       "      <td>1</td>\n",
       "      <td>1</td>\n",
       "      <td>0</td>\n",
       "      <td>0</td>\n",
       "      <td>0</td>\n",
       "      <td>0</td>\n",
       "      <td>0</td>\n",
       "      <td>0</td>\n",
       "      <td>0</td>\n",
       "      <td>1</td>\n",
       "      <td>0</td>\n",
       "    </tr>\n",
       "    <tr>\n",
       "      <th>2</th>\n",
       "      <td>2.0</td>\n",
       "      <td>0.0</td>\n",
       "      <td>5517</td>\n",
       "      <td>0</td>\n",
       "      <td>0</td>\n",
       "      <td>1</td>\n",
       "      <td>0</td>\n",
       "      <td>1</td>\n",
       "      <td>1</td>\n",
       "      <td>0</td>\n",
       "      <td>0</td>\n",
       "      <td>0</td>\n",
       "      <td>0</td>\n",
       "      <td>1</td>\n",
       "      <td>0</td>\n",
       "      <td>0</td>\n",
       "      <td>0</td>\n",
       "      <td>0</td>\n",
       "    </tr>\n",
       "    <tr>\n",
       "      <th>3</th>\n",
       "      <td>2.0</td>\n",
       "      <td>0.0</td>\n",
       "      <td>477</td>\n",
       "      <td>0</td>\n",
       "      <td>0</td>\n",
       "      <td>1</td>\n",
       "      <td>0</td>\n",
       "      <td>1</td>\n",
       "      <td>1</td>\n",
       "      <td>0</td>\n",
       "      <td>0</td>\n",
       "      <td>0</td>\n",
       "      <td>0</td>\n",
       "      <td>0</td>\n",
       "      <td>0</td>\n",
       "      <td>0</td>\n",
       "      <td>1</td>\n",
       "      <td>0</td>\n",
       "    </tr>\n",
       "    <tr>\n",
       "      <th>4</th>\n",
       "      <td>2.0</td>\n",
       "      <td>0.0</td>\n",
       "      <td>725</td>\n",
       "      <td>0</td>\n",
       "      <td>0</td>\n",
       "      <td>1</td>\n",
       "      <td>0</td>\n",
       "      <td>1</td>\n",
       "      <td>1</td>\n",
       "      <td>0</td>\n",
       "      <td>0</td>\n",
       "      <td>0</td>\n",
       "      <td>0</td>\n",
       "      <td>0</td>\n",
       "      <td>0</td>\n",
       "      <td>0</td>\n",
       "      <td>1</td>\n",
       "      <td>0</td>\n",
       "    </tr>\n",
       "  </tbody>\n",
       "</table>\n",
       "</div>"
      ],
      "text/plain": [
       "   encoded_drinks  encoded_drug  essay_len  orientation_bisexual  \\\n",
       "0             2.0           0.0       2644                     0   \n",
       "1             3.0           1.0       1453                     0   \n",
       "2             2.0           0.0       5517                     0   \n",
       "3             2.0           0.0        477                     0   \n",
       "4             2.0           0.0        725                     0   \n",
       "\n",
       "   orientation_gay  orientation_straight  sex_f  sex_m  smokes_encode_no  \\\n",
       "0                0                     1      0      1                 0   \n",
       "1                0                     1      0      1                 1   \n",
       "2                0                     1      0      1                 1   \n",
       "3                0                     1      0      1                 1   \n",
       "4                0                     1      0      1                 1   \n",
       "\n",
       "   smokes_encode_sometimes  smokes_encode_trying to quit  \\\n",
       "0                        1                             0   \n",
       "1                        0                             0   \n",
       "2                        0                             0   \n",
       "3                        0                             0   \n",
       "4                        0                             0   \n",
       "\n",
       "   smokes_encode_when drinking  smokes_encode_yes  status_available  \\\n",
       "0                            0                  0                 0   \n",
       "1                            0                  0                 0   \n",
       "2                            0                  0                 1   \n",
       "3                            0                  0                 0   \n",
       "4                            0                  0                 0   \n",
       "\n",
       "   status_married  status_seeing someone  status_single  status_unknown  \n",
       "0               0                      0              1               0  \n",
       "1               0                      0              1               0  \n",
       "2               0                      0              0               0  \n",
       "3               0                      0              1               0  \n",
       "4               0                      0              1               0  "
      ]
     },
     "execution_count": 192,
     "metadata": {},
     "output_type": "execute_result"
    }
   ],
   "source": [
    "data.head()"
   ]
  },
  {
   "cell_type": "code",
   "execution_count": 255,
   "id": "6fe10951",
   "metadata": {},
   "outputs": [],
   "source": [
    "labels = data['improved_sign']"
   ]
  },
  {
   "cell_type": "code",
   "execution_count": 256,
   "id": "e5d79ea9",
   "metadata": {},
   "outputs": [],
   "source": [
    "columns = ['orientation','sex','smokes_encode', 'status']\n",
    "for col in data[columns]:\n",
    "    data = pd.get_dummies(data, columns=[col], prefix = [col])"
   ]
  },
  {
   "cell_type": "code",
   "execution_count": 257,
   "id": "4554c4d0",
   "metadata": {},
   "outputs": [
    {
     "data": {
      "text/plain": [
       "improved_sign                   0\n",
       "encoded_drinks                  0\n",
       "encoded_drug                    0\n",
       "essay_len                       0\n",
       "orientation_bisexual            0\n",
       "orientation_gay                 0\n",
       "orientation_straight            0\n",
       "sex_f                           0\n",
       "sex_m                           0\n",
       "smokes_encode_no                0\n",
       "smokes_encode_sometimes         0\n",
       "smokes_encode_trying to quit    0\n",
       "smokes_encode_when drinking     0\n",
       "smokes_encode_yes               0\n",
       "status_available                0\n",
       "status_married                  0\n",
       "status_seeing someone           0\n",
       "status_single                   0\n",
       "status_unknown                  0\n",
       "dtype: int64"
      ]
     },
     "execution_count": 257,
     "metadata": {},
     "output_type": "execute_result"
    }
   ],
   "source": [
    "data.isnull().sum()"
   ]
  },
  {
   "cell_type": "code",
   "execution_count": 252,
   "id": "2e0b70ff",
   "metadata": {},
   "outputs": [],
   "source": [
    "data = data.dropna()"
   ]
  },
  {
   "cell_type": "code",
   "execution_count": 258,
   "id": "2bce61e3",
   "metadata": {},
   "outputs": [
    {
     "data": {
      "text/html": [
       "<div>\n",
       "<style scoped>\n",
       "    .dataframe tbody tr th:only-of-type {\n",
       "        vertical-align: middle;\n",
       "    }\n",
       "\n",
       "    .dataframe tbody tr th {\n",
       "        vertical-align: top;\n",
       "    }\n",
       "\n",
       "    .dataframe thead th {\n",
       "        text-align: right;\n",
       "    }\n",
       "</style>\n",
       "<table border=\"1\" class=\"dataframe\">\n",
       "  <thead>\n",
       "    <tr style=\"text-align: right;\">\n",
       "      <th></th>\n",
       "      <th>improved_sign</th>\n",
       "      <th>encoded_drinks</th>\n",
       "      <th>encoded_drug</th>\n",
       "      <th>essay_len</th>\n",
       "      <th>orientation_bisexual</th>\n",
       "      <th>orientation_gay</th>\n",
       "      <th>orientation_straight</th>\n",
       "      <th>sex_f</th>\n",
       "      <th>sex_m</th>\n",
       "      <th>smokes_encode_no</th>\n",
       "      <th>smokes_encode_sometimes</th>\n",
       "      <th>smokes_encode_trying to quit</th>\n",
       "      <th>smokes_encode_when drinking</th>\n",
       "      <th>smokes_encode_yes</th>\n",
       "      <th>status_available</th>\n",
       "      <th>status_married</th>\n",
       "      <th>status_seeing someone</th>\n",
       "      <th>status_single</th>\n",
       "      <th>status_unknown</th>\n",
       "    </tr>\n",
       "  </thead>\n",
       "  <tbody>\n",
       "    <tr>\n",
       "      <th>0</th>\n",
       "      <td>gemini</td>\n",
       "      <td>2.0</td>\n",
       "      <td>0.0</td>\n",
       "      <td>2644</td>\n",
       "      <td>0</td>\n",
       "      <td>0</td>\n",
       "      <td>1</td>\n",
       "      <td>0</td>\n",
       "      <td>1</td>\n",
       "      <td>0</td>\n",
       "      <td>1</td>\n",
       "      <td>0</td>\n",
       "      <td>0</td>\n",
       "      <td>0</td>\n",
       "      <td>0</td>\n",
       "      <td>0</td>\n",
       "      <td>0</td>\n",
       "      <td>1</td>\n",
       "      <td>0</td>\n",
       "    </tr>\n",
       "    <tr>\n",
       "      <th>1</th>\n",
       "      <td>cancer</td>\n",
       "      <td>3.0</td>\n",
       "      <td>1.0</td>\n",
       "      <td>1453</td>\n",
       "      <td>0</td>\n",
       "      <td>0</td>\n",
       "      <td>1</td>\n",
       "      <td>0</td>\n",
       "      <td>1</td>\n",
       "      <td>1</td>\n",
       "      <td>0</td>\n",
       "      <td>0</td>\n",
       "      <td>0</td>\n",
       "      <td>0</td>\n",
       "      <td>0</td>\n",
       "      <td>0</td>\n",
       "      <td>0</td>\n",
       "      <td>1</td>\n",
       "      <td>0</td>\n",
       "    </tr>\n",
       "    <tr>\n",
       "      <th>2</th>\n",
       "      <td>pisces</td>\n",
       "      <td>2.0</td>\n",
       "      <td>0.0</td>\n",
       "      <td>5517</td>\n",
       "      <td>0</td>\n",
       "      <td>0</td>\n",
       "      <td>1</td>\n",
       "      <td>0</td>\n",
       "      <td>1</td>\n",
       "      <td>1</td>\n",
       "      <td>0</td>\n",
       "      <td>0</td>\n",
       "      <td>0</td>\n",
       "      <td>0</td>\n",
       "      <td>1</td>\n",
       "      <td>0</td>\n",
       "      <td>0</td>\n",
       "      <td>0</td>\n",
       "      <td>0</td>\n",
       "    </tr>\n",
       "    <tr>\n",
       "      <th>3</th>\n",
       "      <td>pisces</td>\n",
       "      <td>2.0</td>\n",
       "      <td>0.0</td>\n",
       "      <td>477</td>\n",
       "      <td>0</td>\n",
       "      <td>0</td>\n",
       "      <td>1</td>\n",
       "      <td>0</td>\n",
       "      <td>1</td>\n",
       "      <td>1</td>\n",
       "      <td>0</td>\n",
       "      <td>0</td>\n",
       "      <td>0</td>\n",
       "      <td>0</td>\n",
       "      <td>0</td>\n",
       "      <td>0</td>\n",
       "      <td>0</td>\n",
       "      <td>1</td>\n",
       "      <td>0</td>\n",
       "    </tr>\n",
       "    <tr>\n",
       "      <th>4</th>\n",
       "      <td>aquarius</td>\n",
       "      <td>2.0</td>\n",
       "      <td>0.0</td>\n",
       "      <td>725</td>\n",
       "      <td>0</td>\n",
       "      <td>0</td>\n",
       "      <td>1</td>\n",
       "      <td>0</td>\n",
       "      <td>1</td>\n",
       "      <td>1</td>\n",
       "      <td>0</td>\n",
       "      <td>0</td>\n",
       "      <td>0</td>\n",
       "      <td>0</td>\n",
       "      <td>0</td>\n",
       "      <td>0</td>\n",
       "      <td>0</td>\n",
       "      <td>1</td>\n",
       "      <td>0</td>\n",
       "    </tr>\n",
       "  </tbody>\n",
       "</table>\n",
       "</div>"
      ],
      "text/plain": [
       "  improved_sign  encoded_drinks  encoded_drug  essay_len  \\\n",
       "0        gemini             2.0           0.0       2644   \n",
       "1        cancer             3.0           1.0       1453   \n",
       "2        pisces             2.0           0.0       5517   \n",
       "3        pisces             2.0           0.0        477   \n",
       "4      aquarius             2.0           0.0        725   \n",
       "\n",
       "   orientation_bisexual  orientation_gay  orientation_straight  sex_f  sex_m  \\\n",
       "0                     0                0                     1      0      1   \n",
       "1                     0                0                     1      0      1   \n",
       "2                     0                0                     1      0      1   \n",
       "3                     0                0                     1      0      1   \n",
       "4                     0                0                     1      0      1   \n",
       "\n",
       "   smokes_encode_no  smokes_encode_sometimes  smokes_encode_trying to quit  \\\n",
       "0                 0                        1                             0   \n",
       "1                 1                        0                             0   \n",
       "2                 1                        0                             0   \n",
       "3                 1                        0                             0   \n",
       "4                 1                        0                             0   \n",
       "\n",
       "   smokes_encode_when drinking  smokes_encode_yes  status_available  \\\n",
       "0                            0                  0                 0   \n",
       "1                            0                  0                 0   \n",
       "2                            0                  0                 1   \n",
       "3                            0                  0                 0   \n",
       "4                            0                  0                 0   \n",
       "\n",
       "   status_married  status_seeing someone  status_single  status_unknown  \n",
       "0               0                      0              1               0  \n",
       "1               0                      0              1               0  \n",
       "2               0                      0              0               0  \n",
       "3               0                      0              1               0  \n",
       "4               0                      0              1               0  "
      ]
     },
     "execution_count": 258,
     "metadata": {},
     "output_type": "execute_result"
    }
   ],
   "source": [
    "data.head()"
   ]
  },
  {
   "cell_type": "code",
   "execution_count": 259,
   "id": "3a11974b",
   "metadata": {},
   "outputs": [
    {
     "data": {
      "text/plain": [
       "0"
      ]
     },
     "execution_count": 259,
     "metadata": {},
     "output_type": "execute_result"
    }
   ],
   "source": [
    "labels.isnull().sum()"
   ]
  },
  {
   "cell_type": "code",
   "execution_count": 260,
   "id": "15d67876",
   "metadata": {},
   "outputs": [],
   "source": [
    "data = data.drop(columns=['improved_sign'])"
   ]
  },
  {
   "cell_type": "code",
   "execution_count": 261,
   "id": "1414d8c4",
   "metadata": {},
   "outputs": [
    {
     "data": {
      "text/plain": [
       "encoded_drinks                  0\n",
       "encoded_drug                    0\n",
       "essay_len                       0\n",
       "orientation_bisexual            0\n",
       "orientation_gay                 0\n",
       "orientation_straight            0\n",
       "sex_f                           0\n",
       "sex_m                           0\n",
       "smokes_encode_no                0\n",
       "smokes_encode_sometimes         0\n",
       "smokes_encode_trying to quit    0\n",
       "smokes_encode_when drinking     0\n",
       "smokes_encode_yes               0\n",
       "status_available                0\n",
       "status_married                  0\n",
       "status_seeing someone           0\n",
       "status_single                   0\n",
       "status_unknown                  0\n",
       "dtype: int64"
      ]
     },
     "execution_count": 261,
     "metadata": {},
     "output_type": "execute_result"
    }
   ],
   "source": [
    "data.isnull().sum()"
   ]
  },
  {
   "cell_type": "code",
   "execution_count": 262,
   "id": "56c1a42f",
   "metadata": {},
   "outputs": [],
   "source": [
    "#Validation chunk size\n",
    "val_size = 0.25\n",
    "\n",
    "#Split the data into chunks\n",
    "from sklearn.model_selection import train_test_split \n",
    "X_train, X_val, Y_train, Y_val = train_test_split(data, labels, test_size=val_size, random_state = 0)\n",
    "\n",
    "# #turn in to 1d arrays\n",
    "Y_train = Y_train.to_numpy().ravel()\n",
    "Y_val = Y_val.to_numpy().ravel()"
   ]
  },
  {
   "cell_type": "code",
   "execution_count": 263,
   "id": "5d865659",
   "metadata": {},
   "outputs": [
    {
     "data": {
      "text/plain": [
       "(36667, 18)"
      ]
     },
     "execution_count": 263,
     "metadata": {},
     "output_type": "execute_result"
    }
   ],
   "source": [
    "X_train.shape"
   ]
  },
  {
   "cell_type": "code",
   "execution_count": 264,
   "id": "cc281fc5",
   "metadata": {},
   "outputs": [
    {
     "data": {
      "text/plain": [
       "(36667,)"
      ]
     },
     "execution_count": 264,
     "metadata": {},
     "output_type": "execute_result"
    }
   ],
   "source": [
    "Y_train.shape"
   ]
  },
  {
   "cell_type": "code",
   "execution_count": 265,
   "id": "a8aea7f0",
   "metadata": {},
   "outputs": [],
   "source": [
    "lr_model = LogisticRegression(multi_class=\"multinomial\").fit(X_train, Y_train)\n",
    "lr_predictions = lr_model.predict(X_train)"
   ]
  },
  {
   "cell_type": "code",
   "execution_count": null,
   "id": "96a19d63",
   "metadata": {},
   "outputs": [],
   "source": []
  },
  {
   "cell_type": "code",
   "execution_count": null,
   "id": "a57b9423",
   "metadata": {},
   "outputs": [],
   "source": []
  },
  {
   "cell_type": "code",
   "execution_count": null,
   "id": "d706f78d",
   "metadata": {},
   "outputs": [],
   "source": []
  },
  {
   "cell_type": "code",
   "execution_count": null,
   "id": "bde5c393",
   "metadata": {},
   "outputs": [],
   "source": []
  },
  {
   "cell_type": "code",
   "execution_count": null,
   "id": "f3b4db6b",
   "metadata": {},
   "outputs": [],
   "source": []
  },
  {
   "cell_type": "code",
   "execution_count": null,
   "id": "f9ca5e10",
   "metadata": {},
   "outputs": [],
   "source": []
  },
  {
   "cell_type": "code",
   "execution_count": null,
   "id": "0cefe589",
   "metadata": {},
   "outputs": [],
   "source": []
  },
  {
   "cell_type": "code",
   "execution_count": 267,
   "id": "3abed710",
   "metadata": {},
   "outputs": [],
   "source": [
    "from sklearn.linear_model import LogisticRegression\n",
    "from sklearn.tree import DecisionTreeClassifier\n",
    "from sklearn.neighbors import KNeighborsClassifier"
   ]
  },
  {
   "cell_type": "code",
   "execution_count": 268,
   "id": "2abad123",
   "metadata": {},
   "outputs": [],
   "source": [
    "knn_model = KNeighborsClassifier(n_neighbors = 5).fit(X_train, Y_train)\n",
    "knn_predictions = knn_model.predict(X_train)"
   ]
  },
  {
   "cell_type": "code",
   "execution_count": null,
   "id": "5e5509a3",
   "metadata": {},
   "outputs": [],
   "source": []
  },
  {
   "cell_type": "code",
   "execution_count": null,
   "id": "1c398dfa",
   "metadata": {},
   "outputs": [],
   "source": []
  }
 ],
 "metadata": {
  "kernelspec": {
   "display_name": "Python 3 (ipykernel)",
   "language": "python",
   "name": "python3"
  },
  "language_info": {
   "codemirror_mode": {
    "name": "ipython",
    "version": 3
   },
   "file_extension": ".py",
   "mimetype": "text/x-python",
   "name": "python",
   "nbconvert_exporter": "python",
   "pygments_lexer": "ipython3",
   "version": "3.9.7"
  }
 },
 "nbformat": 4,
 "nbformat_minor": 5
}
